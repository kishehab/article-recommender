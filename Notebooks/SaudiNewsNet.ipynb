{
  "nbformat": 4,
  "nbformat_minor": 0,
  "metadata": {
    "colab": {
      "provenance": []
    },
    "kernelspec": {
      "name": "python3",
      "display_name": "Python 3"
    },
    "language_info": {
      "name": "python"
    }
  },
  "cells": [
    {
      "cell_type": "markdown",
      "source": [
        "# SaudiNewsNet"
      ],
      "metadata": {
        "id": "vQiXutsX9OkB"
      }
    },
    {
      "cell_type": "code",
      "execution_count": null,
      "metadata": {
        "id": "hSrIlv-I2h17"
      },
      "outputs": [],
      "source": [
        "import pandas as pd\n",
        "import os\n",
        "import json\n",
        "import matplotlib.pyplot as plt"
      ]
    },
    {
      "cell_type": "markdown",
      "source": [
        "## Handling json files"
      ],
      "metadata": {
        "id": "cprCkQPz6Ji-"
      }
    },
    {
      "cell_type": "code",
      "source": [
        "data_folder = 'dataset'\n",
        "all_articles = []"
      ],
      "metadata": {
        "id": "SJgajS_D53P9"
      },
      "execution_count": null,
      "outputs": []
    },
    {
      "cell_type": "code",
      "source": [
        "for file in os.listdir(data_folder):\n",
        "    if file.endswith('.json'):\n",
        "        with open(os.path.join(data_folder, file), 'r', encoding='utf-8') as f:\n",
        "            articles = json.load(f)\n",
        "            all_articles.extend(articles)\n"
      ],
      "metadata": {
        "id": "5jtVTXlv56zx"
      },
      "execution_count": null,
      "outputs": []
    },
    {
      "cell_type": "code",
      "source": [
        "# Convert to DataFrame\n",
        "df1 = pd.DataFrame(all_articles)"
      ],
      "metadata": {
        "id": "FsZk9inB59y6"
      },
      "execution_count": null,
      "outputs": []
    },
    {
      "cell_type": "code",
      "source": [
        "# Display the first few rows of the dataset to understand its structure\n",
        "df1.head(5)"
      ],
      "metadata": {
        "id": "r7BQj9OT6EQt"
      },
      "execution_count": null,
      "outputs": []
    },
    {
      "cell_type": "code",
      "source": [
        "df1.to_csv('saudinewsnet.csv', index=False)"
      ],
      "metadata": {
        "id": "i2YZ6NF26Hvc"
      },
      "execution_count": null,
      "outputs": []
    },
    {
      "cell_type": "markdown",
      "source": [
        "## EDA"
      ],
      "metadata": {
        "id": "z3_AlxA76Y_U"
      }
    },
    {
      "cell_type": "code",
      "source": [
        "path = \"/content/drive/MyDrive/Capstone Project/Dataset/saudinewsnet.csv\""
      ],
      "metadata": {
        "id": "ulu5jW_k30HC"
      },
      "execution_count": null,
      "outputs": []
    },
    {
      "cell_type": "code",
      "source": [
        "df = pd.read_csv(path)"
      ],
      "metadata": {
        "id": "W0PI0oQ537lu"
      },
      "execution_count": null,
      "outputs": []
    },
    {
      "cell_type": "code",
      "source": [
        "df.head(5)"
      ],
      "metadata": {
        "colab": {
          "base_uri": "https://localhost:8080/",
          "height": 206
        },
        "id": "ztx9GlqW4LH_",
        "outputId": "ef0255d3-c645-4bb6-ef17-8c88a0172d73"
      },
      "execution_count": null,
      "outputs": [
        {
          "output_type": "execute_result",
          "data": {
            "text/plain": [
              "   source                                                url  \\\n",
              "0  aawsat  http://aawsat.com/home/article/410826/بريطانيا...   \n",
              "1  aawsat  http://aawsat.com/home/article/410801/الرئيس-ه...   \n",
              "2  aawsat  http://aawsat.com/home/article/410796/مجلس-الأ...   \n",
              "3  aawsat  http://aawsat.com/home/article/410771/«نيران-ص...   \n",
              "4  aawsat  http://aawsat.com/home/article/410751/الخارجية...   \n",
              "\n",
              "        date_extracted                                              title  \\\n",
              "0  2015-07-21 02:51:32  بريطانيا: أربعة محاور لاستراتيجية جديدة تتصدى ...   \n",
              "1  2015-07-21 02:51:33           الرئيس هادي يعين نايف البكري محافظا لعدن   \n",
              "2  2015-07-21 02:51:35  مجلس الأمن يصادق على «الاتفاق النووي».. وإيران...   \n",
              "3  2015-07-21 02:51:37  «نيران صديقة» أميركية تودي بحياة 14 جنديا أفغانيا   \n",
              "4  2015-07-21 02:51:38  الخارجية الإيطالية: أربعة من مواطنينا مخطوفون ...   \n",
              "\n",
              "                          author  \\\n",
              "0                لندن: رنيم حنوش   \n",
              "1   لندن: «الشرق الأوسط أونلاين»   \n",
              "2  لندن: «الشرق الأوسط  أونلاين»   \n",
              "3   لندن: «الشرق الأوسط أونلاين»   \n",
              "4   لندن: «الشرق الأوسط أونلاين»   \n",
              "\n",
              "                                             content  \n",
              "0  حدد رئيس الوزراء البريطاني ديفيد كاميرون، اليو...  \n",
              "1  أصدر الرئيس عبدربه منصور هادي رئيس الجمهورية ا...  \n",
              "2  وافق مجلس الأمن الدولي، اليوم (الاثنين)، على ا...  \n",
              "3  قال مسؤولون أفغان ان 14 جنديا أفغانيا قتلوا في...  \n",
              "4  أعلنت وزارة الخارجية الايطالية، اليوم (الاثنين...  "
            ],
            "text/html": [
              "\n",
              "  <div id=\"df-4e1e45d9-fa81-4cba-8987-7a29db988e6a\" class=\"colab-df-container\">\n",
              "    <div>\n",
              "<style scoped>\n",
              "    .dataframe tbody tr th:only-of-type {\n",
              "        vertical-align: middle;\n",
              "    }\n",
              "\n",
              "    .dataframe tbody tr th {\n",
              "        vertical-align: top;\n",
              "    }\n",
              "\n",
              "    .dataframe thead th {\n",
              "        text-align: right;\n",
              "    }\n",
              "</style>\n",
              "<table border=\"1\" class=\"dataframe\">\n",
              "  <thead>\n",
              "    <tr style=\"text-align: right;\">\n",
              "      <th></th>\n",
              "      <th>source</th>\n",
              "      <th>url</th>\n",
              "      <th>date_extracted</th>\n",
              "      <th>title</th>\n",
              "      <th>author</th>\n",
              "      <th>content</th>\n",
              "    </tr>\n",
              "  </thead>\n",
              "  <tbody>\n",
              "    <tr>\n",
              "      <th>0</th>\n",
              "      <td>aawsat</td>\n",
              "      <td>http://aawsat.com/home/article/410826/بريطانيا...</td>\n",
              "      <td>2015-07-21 02:51:32</td>\n",
              "      <td>بريطانيا: أربعة محاور لاستراتيجية جديدة تتصدى ...</td>\n",
              "      <td>لندن: رنيم حنوش</td>\n",
              "      <td>حدد رئيس الوزراء البريطاني ديفيد كاميرون، اليو...</td>\n",
              "    </tr>\n",
              "    <tr>\n",
              "      <th>1</th>\n",
              "      <td>aawsat</td>\n",
              "      <td>http://aawsat.com/home/article/410801/الرئيس-ه...</td>\n",
              "      <td>2015-07-21 02:51:33</td>\n",
              "      <td>الرئيس هادي يعين نايف البكري محافظا لعدن</td>\n",
              "      <td>لندن: «الشرق الأوسط أونلاين»</td>\n",
              "      <td>أصدر الرئيس عبدربه منصور هادي رئيس الجمهورية ا...</td>\n",
              "    </tr>\n",
              "    <tr>\n",
              "      <th>2</th>\n",
              "      <td>aawsat</td>\n",
              "      <td>http://aawsat.com/home/article/410796/مجلس-الأ...</td>\n",
              "      <td>2015-07-21 02:51:35</td>\n",
              "      <td>مجلس الأمن يصادق على «الاتفاق النووي».. وإيران...</td>\n",
              "      <td>لندن: «الشرق الأوسط  أونلاين»</td>\n",
              "      <td>وافق مجلس الأمن الدولي، اليوم (الاثنين)، على ا...</td>\n",
              "    </tr>\n",
              "    <tr>\n",
              "      <th>3</th>\n",
              "      <td>aawsat</td>\n",
              "      <td>http://aawsat.com/home/article/410771/«نيران-ص...</td>\n",
              "      <td>2015-07-21 02:51:37</td>\n",
              "      <td>«نيران صديقة» أميركية تودي بحياة 14 جنديا أفغانيا</td>\n",
              "      <td>لندن: «الشرق الأوسط أونلاين»</td>\n",
              "      <td>قال مسؤولون أفغان ان 14 جنديا أفغانيا قتلوا في...</td>\n",
              "    </tr>\n",
              "    <tr>\n",
              "      <th>4</th>\n",
              "      <td>aawsat</td>\n",
              "      <td>http://aawsat.com/home/article/410751/الخارجية...</td>\n",
              "      <td>2015-07-21 02:51:38</td>\n",
              "      <td>الخارجية الإيطالية: أربعة من مواطنينا مخطوفون ...</td>\n",
              "      <td>لندن: «الشرق الأوسط أونلاين»</td>\n",
              "      <td>أعلنت وزارة الخارجية الايطالية، اليوم (الاثنين...</td>\n",
              "    </tr>\n",
              "  </tbody>\n",
              "</table>\n",
              "</div>\n",
              "    <div class=\"colab-df-buttons\">\n",
              "\n",
              "  <div class=\"colab-df-container\">\n",
              "    <button class=\"colab-df-convert\" onclick=\"convertToInteractive('df-4e1e45d9-fa81-4cba-8987-7a29db988e6a')\"\n",
              "            title=\"Convert this dataframe to an interactive table.\"\n",
              "            style=\"display:none;\">\n",
              "\n",
              "  <svg xmlns=\"http://www.w3.org/2000/svg\" height=\"24px\" viewBox=\"0 -960 960 960\">\n",
              "    <path d=\"M120-120v-720h720v720H120Zm60-500h600v-160H180v160Zm220 220h160v-160H400v160Zm0 220h160v-160H400v160ZM180-400h160v-160H180v160Zm440 0h160v-160H620v160ZM180-180h160v-160H180v160Zm440 0h160v-160H620v160Z\"/>\n",
              "  </svg>\n",
              "    </button>\n",
              "\n",
              "  <style>\n",
              "    .colab-df-container {\n",
              "      display:flex;\n",
              "      gap: 12px;\n",
              "    }\n",
              "\n",
              "    .colab-df-convert {\n",
              "      background-color: #E8F0FE;\n",
              "      border: none;\n",
              "      border-radius: 50%;\n",
              "      cursor: pointer;\n",
              "      display: none;\n",
              "      fill: #1967D2;\n",
              "      height: 32px;\n",
              "      padding: 0 0 0 0;\n",
              "      width: 32px;\n",
              "    }\n",
              "\n",
              "    .colab-df-convert:hover {\n",
              "      background-color: #E2EBFA;\n",
              "      box-shadow: 0px 1px 2px rgba(60, 64, 67, 0.3), 0px 1px 3px 1px rgba(60, 64, 67, 0.15);\n",
              "      fill: #174EA6;\n",
              "    }\n",
              "\n",
              "    .colab-df-buttons div {\n",
              "      margin-bottom: 4px;\n",
              "    }\n",
              "\n",
              "    [theme=dark] .colab-df-convert {\n",
              "      background-color: #3B4455;\n",
              "      fill: #D2E3FC;\n",
              "    }\n",
              "\n",
              "    [theme=dark] .colab-df-convert:hover {\n",
              "      background-color: #434B5C;\n",
              "      box-shadow: 0px 1px 3px 1px rgba(0, 0, 0, 0.15);\n",
              "      filter: drop-shadow(0px 1px 2px rgba(0, 0, 0, 0.3));\n",
              "      fill: #FFFFFF;\n",
              "    }\n",
              "  </style>\n",
              "\n",
              "    <script>\n",
              "      const buttonEl =\n",
              "        document.querySelector('#df-4e1e45d9-fa81-4cba-8987-7a29db988e6a button.colab-df-convert');\n",
              "      buttonEl.style.display =\n",
              "        google.colab.kernel.accessAllowed ? 'block' : 'none';\n",
              "\n",
              "      async function convertToInteractive(key) {\n",
              "        const element = document.querySelector('#df-4e1e45d9-fa81-4cba-8987-7a29db988e6a');\n",
              "        const dataTable =\n",
              "          await google.colab.kernel.invokeFunction('convertToInteractive',\n",
              "                                                    [key], {});\n",
              "        if (!dataTable) return;\n",
              "\n",
              "        const docLinkHtml = 'Like what you see? Visit the ' +\n",
              "          '<a target=\"_blank\" href=https://colab.research.google.com/notebooks/data_table.ipynb>data table notebook</a>'\n",
              "          + ' to learn more about interactive tables.';\n",
              "        element.innerHTML = '';\n",
              "        dataTable['output_type'] = 'display_data';\n",
              "        await google.colab.output.renderOutput(dataTable, element);\n",
              "        const docLink = document.createElement('div');\n",
              "        docLink.innerHTML = docLinkHtml;\n",
              "        element.appendChild(docLink);\n",
              "      }\n",
              "    </script>\n",
              "  </div>\n",
              "\n",
              "\n",
              "<div id=\"df-202475e2-c962-4fc5-bf30-f00ac92e24b3\">\n",
              "  <button class=\"colab-df-quickchart\" onclick=\"quickchart('df-202475e2-c962-4fc5-bf30-f00ac92e24b3')\"\n",
              "            title=\"Suggest charts\"\n",
              "            style=\"display:none;\">\n",
              "\n",
              "<svg xmlns=\"http://www.w3.org/2000/svg\" height=\"24px\"viewBox=\"0 0 24 24\"\n",
              "     width=\"24px\">\n",
              "    <g>\n",
              "        <path d=\"M19 3H5c-1.1 0-2 .9-2 2v14c0 1.1.9 2 2 2h14c1.1 0 2-.9 2-2V5c0-1.1-.9-2-2-2zM9 17H7v-7h2v7zm4 0h-2V7h2v10zm4 0h-2v-4h2v4z\"/>\n",
              "    </g>\n",
              "</svg>\n",
              "  </button>\n",
              "\n",
              "<style>\n",
              "  .colab-df-quickchart {\n",
              "      --bg-color: #E8F0FE;\n",
              "      --fill-color: #1967D2;\n",
              "      --hover-bg-color: #E2EBFA;\n",
              "      --hover-fill-color: #174EA6;\n",
              "      --disabled-fill-color: #AAA;\n",
              "      --disabled-bg-color: #DDD;\n",
              "  }\n",
              "\n",
              "  [theme=dark] .colab-df-quickchart {\n",
              "      --bg-color: #3B4455;\n",
              "      --fill-color: #D2E3FC;\n",
              "      --hover-bg-color: #434B5C;\n",
              "      --hover-fill-color: #FFFFFF;\n",
              "      --disabled-bg-color: #3B4455;\n",
              "      --disabled-fill-color: #666;\n",
              "  }\n",
              "\n",
              "  .colab-df-quickchart {\n",
              "    background-color: var(--bg-color);\n",
              "    border: none;\n",
              "    border-radius: 50%;\n",
              "    cursor: pointer;\n",
              "    display: none;\n",
              "    fill: var(--fill-color);\n",
              "    height: 32px;\n",
              "    padding: 0;\n",
              "    width: 32px;\n",
              "  }\n",
              "\n",
              "  .colab-df-quickchart:hover {\n",
              "    background-color: var(--hover-bg-color);\n",
              "    box-shadow: 0 1px 2px rgba(60, 64, 67, 0.3), 0 1px 3px 1px rgba(60, 64, 67, 0.15);\n",
              "    fill: var(--button-hover-fill-color);\n",
              "  }\n",
              "\n",
              "  .colab-df-quickchart-complete:disabled,\n",
              "  .colab-df-quickchart-complete:disabled:hover {\n",
              "    background-color: var(--disabled-bg-color);\n",
              "    fill: var(--disabled-fill-color);\n",
              "    box-shadow: none;\n",
              "  }\n",
              "\n",
              "  .colab-df-spinner {\n",
              "    border: 2px solid var(--fill-color);\n",
              "    border-color: transparent;\n",
              "    border-bottom-color: var(--fill-color);\n",
              "    animation:\n",
              "      spin 1s steps(1) infinite;\n",
              "  }\n",
              "\n",
              "  @keyframes spin {\n",
              "    0% {\n",
              "      border-color: transparent;\n",
              "      border-bottom-color: var(--fill-color);\n",
              "      border-left-color: var(--fill-color);\n",
              "    }\n",
              "    20% {\n",
              "      border-color: transparent;\n",
              "      border-left-color: var(--fill-color);\n",
              "      border-top-color: var(--fill-color);\n",
              "    }\n",
              "    30% {\n",
              "      border-color: transparent;\n",
              "      border-left-color: var(--fill-color);\n",
              "      border-top-color: var(--fill-color);\n",
              "      border-right-color: var(--fill-color);\n",
              "    }\n",
              "    40% {\n",
              "      border-color: transparent;\n",
              "      border-right-color: var(--fill-color);\n",
              "      border-top-color: var(--fill-color);\n",
              "    }\n",
              "    60% {\n",
              "      border-color: transparent;\n",
              "      border-right-color: var(--fill-color);\n",
              "    }\n",
              "    80% {\n",
              "      border-color: transparent;\n",
              "      border-right-color: var(--fill-color);\n",
              "      border-bottom-color: var(--fill-color);\n",
              "    }\n",
              "    90% {\n",
              "      border-color: transparent;\n",
              "      border-bottom-color: var(--fill-color);\n",
              "    }\n",
              "  }\n",
              "</style>\n",
              "\n",
              "  <script>\n",
              "    async function quickchart(key) {\n",
              "      const quickchartButtonEl =\n",
              "        document.querySelector('#' + key + ' button');\n",
              "      quickchartButtonEl.disabled = true;  // To prevent multiple clicks.\n",
              "      quickchartButtonEl.classList.add('colab-df-spinner');\n",
              "      try {\n",
              "        const charts = await google.colab.kernel.invokeFunction(\n",
              "            'suggestCharts', [key], {});\n",
              "      } catch (error) {\n",
              "        console.error('Error during call to suggestCharts:', error);\n",
              "      }\n",
              "      quickchartButtonEl.classList.remove('colab-df-spinner');\n",
              "      quickchartButtonEl.classList.add('colab-df-quickchart-complete');\n",
              "    }\n",
              "    (() => {\n",
              "      let quickchartButtonEl =\n",
              "        document.querySelector('#df-202475e2-c962-4fc5-bf30-f00ac92e24b3 button');\n",
              "      quickchartButtonEl.style.display =\n",
              "        google.colab.kernel.accessAllowed ? 'block' : 'none';\n",
              "    })();\n",
              "  </script>\n",
              "</div>\n",
              "\n",
              "    </div>\n",
              "  </div>\n"
            ],
            "application/vnd.google.colaboratory.intrinsic+json": {
              "type": "dataframe",
              "variable_name": "df",
              "summary": "{\n  \"name\": \"df\",\n  \"rows\": 31030,\n  \"fields\": [\n    {\n      \"column\": \"source\",\n      \"properties\": {\n        \"dtype\": \"category\",\n        \"num_unique_values\": 14,\n        \"samples\": [\n          \"okaz\",\n          \"3alyoum\",\n          \"aawsat\"\n        ],\n        \"semantic_type\": \"\",\n        \"description\": \"\"\n      }\n    },\n    {\n      \"column\": \"url\",\n      \"properties\": {\n        \"dtype\": \"string\",\n        \"num_unique_values\": 31030,\n        \"samples\": [\n          \"http://sabq.org/6gDgde\",\n          \"http://www.al-madina.com/node/623607/\\u0648\\u0632\\u064a\\u0631-\\u0627\\u0644\\u0639\\u062f\\u0644-\\u0627\\u0644\\u0644\\u0628\\u0646\\u0627\\u0646\\u064a-\\u0639\\u0648\\u0646-\\u063a\\u0637\\u0627\\u0621-\\u0644\\u0645\\u0634\\u0631\\u0648\\u0639-\\u062d\\u0632\\u0628-\\u0627\\u0644\\u0644\\u0647-\\u0648\\u0625\\u064a\\u0631\\u0627\\u0646-\\u0641\\u064a-\\u0628\\u0644\\u0627\\u062f\\u0646\\u0627.html?weekly\",\n          \"http://www.alriyadh.com/1070708\"\n        ],\n        \"semantic_type\": \"\",\n        \"description\": \"\"\n      }\n    },\n    {\n      \"column\": \"date_extracted\",\n      \"properties\": {\n        \"dtype\": \"object\",\n        \"num_unique_values\": 28265,\n        \"samples\": [\n          \"2015-08-09 17:29:46\",\n          \"2015-08-04 18:21:39\",\n          \"2015-08-02 23:09:00\"\n        ],\n        \"semantic_type\": \"\",\n        \"description\": \"\"\n      }\n    },\n    {\n      \"column\": \"title\",\n      \"properties\": {\n        \"dtype\": \"string\",\n        \"num_unique_values\": 29462,\n        \"samples\": [\n          \"\\u0648\\u062c\\u0648\\u0647\",\n          \"\\u062a\\u0648\\u062d\\u064a\\u062f \\u0627\\u0644\\u0645\\u0633\\u0627\\u0631\\u0627\\u062a \\u0627\\u0644\\u0645\\u0632\\u062f\\u0648\\u062c\\u0629 \\u062f\\u0627\\u062e\\u0644 \\u0627\\u0644\\u0645\\u062f\\u0646 \\u0644\\u0625\\u0646\\u0647\\u0627\\u0621 \\u0627\\u0644\\u0627\\u062e\\u062a\\u0646\\u0627\\u0642\\u0627\\u062a\",\n          \"\\u0623\\u0645\\u0631 \\u0645\\u0644\\u0643\\u064a \\u0628\\u0625\\u0646\\u0627\\u0628\\u0629 \\u0633\\u0645\\u0648 \\u0648\\u0644\\u064a \\u0627\\u0644\\u0639\\u0647\\u062f \\u0641\\u064a \\u0625\\u062f\\u0627\\u0631\\u0629 \\u0634\\u0624\\u0648\\u0646 \\u0627\\u0644\\u062f\\u0648\\u0644\\u0629\"\n        ],\n        \"semantic_type\": \"\",\n        \"description\": \"\"\n      }\n    },\n    {\n      \"column\": \"author\",\n      \"properties\": {\n        \"dtype\": \"category\",\n        \"num_unique_values\": 8252,\n        \"samples\": [\n          \"\\u0623 \\u0641 \\u0628 - \\u0627\\u0644\\u0642\\u0627\\u0647\\u0631\\u0629\",\n          \"\\u00a0\\u0646\\u0635\\u064a\\u0631 \\u0627\\u0644\\u0645\\u063a\\u0627\\u0645\\u0633\\u064a (\\u0647\\u0627\\u062a\\u0641\\u064a\\u0627 \\u0640\\u0640 \\u062c\\u062f\\u0629)\",\n          \"\\u0632\\u064a\\u0648\\u0631\\u064a\\u062e -\\u0627\\u0644\\u0648\\u0626\\u0627\\u0645:\"\n        ],\n        \"semantic_type\": \"\",\n        \"description\": \"\"\n      }\n    },\n    {\n      \"column\": \"content\",\n      \"properties\": {\n        \"dtype\": \"string\",\n        \"num_unique_values\": 30133,\n        \"samples\": [\n          \" \\u062f\\u0623\\u0628\\u062a \\u0627\\u0644\\u0623\\u0646\\u062f\\u064a\\u0629 \\u0627\\u0644\\u0633\\u0639\\u0648\\u062f\\u064a\\u0629 \\u0639\\u0644\\u0649 \\u062c\\u0644\\u0628 \\u0627\\u0644\\u0644\\u0627\\u0639\\u0628\\u064a\\u0646 \\u063a\\u064a\\u0631 \\u0627\\u0644\\u0633\\u0639\\u0648\\u062f\\u064a\\u064a\\u0646 \\u0645\\u0646\\u0630 \\u0639\\u062f\\u0629 \\u0639\\u0642\\u0648\\u062f \\u0644\\u0644\\u0645\\u0634\\u0627\\u0631\\u0643\\u0629 \\u0636\\u0645\\u0646 \\u0627\\u0644\\u062f\\u0648\\u0631\\u064a \\u0627\\u0644\\u0633\\u0639\\u0648\\u062f\\u064a \\u0648\\u0641\\u0642 \\u0644\\u0627\\u0626\\u062d\\u0629 \\u0648\\u0636\\u0648\\u0627\\u0628\\u0637 \\u0645\\u0639\\u064a\\u0646\\u0629. \\u0648\\u064a\\u0641\\u0648\\u0642 \\u0639\\u062f\\u062f \\u0647\\u0624\\u0644\\u0627\\u0621 \\u0627\\u0644\\u0644\\u0627\\u0639\\u0628\\u064a\\u0646 \\u0627\\u0644\\u062e\\u0645\\u0633\\u064a\\u0646\\u060c \\u0648\\u0631\\u0628\\u0645\\u0627 \\u062a\\u0644\\u063a\\u0649 \\u0639\\u0642\\u0648\\u062f \\u0623\\u0639\\u062f\\u0627\\u062f \\u0643\\u0628\\u064a\\u0631\\u0629 \\u0645\\u0646\\u0647\\u0645 \\u0633\\u0646\\u0648\\u064a\\u0627 \\u0644\\u064a\\u0623\\u062a\\u064a \\u063a\\u064a\\u0631\\u0647\\u0645 \\u0648\\u0647\\u0643\\u0630\\u0627.\\n\\u0648\\u0642\\u062f \\u0648\\u0635\\u0644 \\u0627\\u0644\\u0625\\u0646\\u0641\\u0627\\u0642 \\u0639\\u0644\\u0649 \\u0647\\u0624\\u0644\\u0627\\u0621 \\u0627\\u0644\\u0644\\u0627\\u0639\\u0628\\u064a\\u0646 \\u0641\\u064a \\u0627\\u0644\\u0648\\u0642\\u062a \\u0627\\u0644\\u062d\\u0627\\u0636\\u0631 \\u0645\\u0626\\u0627\\u062a \\u0627\\u0644\\u0645\\u0644\\u0627\\u064a\\u064a\\u0646 \\u0628\\u0639\\u062f \\u0623\\u0646 \\u0643\\u0627\\u0646\\u062a \\u0644\\u0627 \\u062a\\u062a\\u0639\\u062f\\u0649 \\u0639\\u0634\\u0631\\u0627\\u062a \\u0627\\u0644\\u0645\\u0644\\u0627\\u064a\\u064a\\u0646 \\u0648\\u0647\\u064a \\u0641\\u064a \\u062a\\u0635\\u0627\\u0639\\u062f \\u0645\\u0633\\u062a\\u0645\\u0631.\\n\\u0648\\u0645\\u0646\\u0647\\u0645 \\u0645\\u0646 \\u0628\\u0631\\u0632 \\u0648\\u0633\\u0627\\u0647\\u0645 \\u0641\\u064a \\u0627\\u0646\\u062a\\u0635\\u0627\\u0631\\u0627\\u062a \\u0648\\u0628\\u0637\\u0648\\u0644\\u0627\\u062a \\u062b\\u0645 \\u062a\\u0645 \\u062a\\u063a\\u064a\\u064a\\u0631\\u0647\\u0645 \\u0628\\u062d\\u062c\\u0629 \\u062c\\u0644\\u0628 \\u0627\\u0644\\u0623\\u0641\\u0636\\u0644\\u060c \\u0644\\u0643\\u0646 \\u0645\\u0646 \\u062d\\u0636\\u0631 \\u0628\\u0639\\u062f\\u0647\\u0645 \\u0644\\u0645 \\u064a\\u0642\\u062f\\u0645 \\u0646\\u0635\\u0641 \\u0645\\u0627 \\u0642\\u062f\\u0645\\u0648\\u0627 \\u0641\\u064a \\u0643\\u062b\\u064a\\u0631 \\u0645\\u0646 \\u0627\\u0644\\u0623\\u062d\\u064a\\u0627\\u0646!.\\n\\u0648\\u0645\\u0646\\u0647\\u0645 \\u0645\\u0646 \\u062a\\u0645 \\u062a\\u0633\\u0631\\u064a\\u062d\\u0647\\u0645 \\u0628\\u062d\\u062c\\u0629 \\u0623\\u0646\\u0647\\u0645 \\u0623\\u0642\\u0644 \\u0645\\u0646 \\u0627\\u0644\\u0637\\u0645\\u0648\\u062d\\u0627\\u062a \\u0648\\u0644\\u0644\\u0631\\u063a\\u0628\\u0629 \\u0641\\u064a \\u0627\\u0644\\u0623\\u0641\\u0636\\u0644\\u060c \\u062b\\u0645 \\u0648\\u062c\\u062f\\u0646\\u0627\\u0647\\u0645 \\u064a\\u0645\\u062b\\u0644\\u0648\\u0646 \\u0623\\u0631\\u0642\\u0649 \\u0627\\u0644\\u0641\\u0631\\u0642 \\u0627\\u0644\\u0639\\u0627\\u0644\\u0645\\u064a\\u0629 \\u0628\\u0644 \\u0648\\u0641\\u064a \\u0627\\u0644\\u0645\\u0646\\u062a\\u062e\\u0628\\u0627\\u062a \\u0627\\u0644\\u0639\\u0627\\u0644\\u0645\\u064a\\u0629 \\u0627\\u0644\\u0643\\u0628\\u0631\\u0649 \\u0648\\u0627\\u0644\\u062a\\u064a \\u062a\\u0641\\u0648\\u0642\\u0646\\u0627 \\u0628\\u0645\\u0631\\u0627\\u062d\\u0644\\u060c \\u0641\\u0645\\u0627 \\u0645\\u0639\\u0646\\u0649 \\u0630\\u0644\\u0643\\u061f.\\n\\u0648\\u0645\\u0646\\u0647\\u0645 \\u0645\\u0646 \\u0643\\u0627\\u0646 \\u0645\\u062a\\u0648\\u0633\\u0637 \\u0627\\u0644\\u0645\\u0633\\u062a\\u0648\\u0649 \\u0648\\u0627\\u0644\\u0634\\u0647\\u0631\\u0629 \\u0648\\u0641\\u064a \\u062d\\u062f\\u0648\\u062f \\u0625\\u0645\\u0643\\u0627\\u0646\\u0627\\u062a \\u0623\\u0646\\u062f\\u064a\\u062a\\u0646\\u0627\\u060c \\u0625\\u0644\\u0627 \\u0623\\u0646 \\u0627\\u0646\\u0633\\u062c\\u0627\\u0645\\u0647\\u0645 \\u0645\\u0639 \\u0627\\u0644\\u0641\\u0631\\u064a\\u0642 \\u0648\\u062a\\u063a\\u0637\\u064a\\u062a\\u0647\\u0645 \\u0644\\u0628\\u0639\\u0636 \\u0627\\u0644\\u0639\\u062c\\u0632 \\u0634\\u0643\\u0644 \\u0646\\u062c\\u0627\\u062d\\u0627 \\u0643\\u0628\\u064a\\u0631\\u0627 \\u0648\\u0628\\u0639\\u0636\\u0647\\u0645 \\u062d\\u0642\\u0642 \\u0628\\u0637\\u0648\\u0644\\u0627\\u062a\\u060c \\u0648\\u0645\\u0639 \\u0630\\u0644\\u0643 \\u062a\\u0645 \\u062a\\u063a\\u064a\\u064a\\u0631\\u0647\\u0645 \\u0623\\u064a\\u0636\\u0627 \\u0628\\u062d\\u062c\\u0629 \\u0627\\u0644\\u0631\\u063a\\u0628\\u0629 \\u0641\\u064a \\u0627\\u0644\\u0623\\u0641\\u0636\\u0644\\u060c \\u0648\\u0645\\u0646 \\u062c\\u0627\\u0621 \\u0628\\u0639\\u062f\\u0647\\u0645 \\u0643\\u0627\\u0646\\u0648\\u0627 \\u0623\\u0633\\u0648\\u0623 \\u0645\\u0633\\u062a\\u0648\\u0649 \\u0648\\u0623\\u0642\\u0644 \\u0627\\u0646\\u0633\\u062c\\u0627\\u0645\\u0627 \\u0648\\u0623\\u0643\\u062b\\u0631 \\u062a\\u0643\\u0644\\u0641\\u0629\\u060c \\u0641\\u0644\\u0645\\u0627\\u0630\\u0627\\u061f.\\n\\u0641\\u064a \\u0643\\u0644 \\u062a\\u063a\\u064a\\u064a\\u0631 \\u064a\\u062e\\u0633\\u0631 \\u0627\\u0644\\u0646\\u0627\\u062f\\u064a \\u0645\\u0627\\u062f\\u064a\\u0627 \\u0645\\u0646 \\u0631\\u0648\\u0627\\u062a\\u0628 \\u0628\\u0627\\u0642\\u064a \\u0627\\u0644\\u0645\\u062f\\u0629 \\u0648\\u063a\\u0631\\u0627\\u0645\\u0629 \\u0641\\u0633\\u062e \\u0627\\u0644\\u0639\\u0642\\u062f \\u0643\\u0645\\u0627 \\u064a\\u062a\\u0643\\u0644\\u0641 \\u0645\\u0642\\u062f\\u0645\\u0627\\u062a \\u0639\\u0642\\u0648\\u062f \\u062c\\u062f\\u064a\\u062f\\u0629 \\u0648\\u062a\\u0630\\u0627\\u0643\\u0631 \\u0637\\u064a\\u0631\\u0627\\u0646 \\u0648\\u0643\\u0634\\u0648\\u0641\\u0627\\u062a \\u0637\\u0628\\u064a\\u0629 \\u0645\\u0639 \\u0645\\u0646 \\u064a\\u0623\\u062a\\u064a \\u0628\\u0639\\u062f\\u0647\\u0645\\u060c \\u0648\\u0631\\u0628\\u0645\\u0627 \\u064a\\u062a\\u0636\\u0631\\u0631 \\u0623\\u064a\\u0636\\u0627 \\u0627\\u0644\\u0646\\u0627\\u062f\\u064a \\u0641\\u064a \\u0645\\u0648\\u0636\\u0648\\u0639 \\u0627\\u0644\\u0633\\u064a\\u0627\\u0631\\u0629 \\u0648\\u0627\\u0644\\u0633\\u0643\\u0646 \\u0648\\u0623\\u0645\\u0648\\u0631 \\u063a\\u064a\\u0631 \\u0630\\u0644\\u0643.\\n\\u0648\\u0645\\u0627 \\u0646\\u0637\\u0644\\u0628\\u0647 \\u0639\\u0646\\u062f \\u0627\\u0644\\u062a\\u063a\\u064a\\u064a\\u0631 \\u0623\\u0646 \\u062a\\u0631\\u0627\\u0639\\u064a \\u0627\\u0644\\u0623\\u0646\\u062f\\u064a\\u0629 \\u0623\\u0645\\u0648\\u0631\\u0627 \\u0643\\u062b\\u064a\\u0631\\u0629 \\u0645\\u0646\\u0647\\u0627 \\u0627\\u0644\\u0641\\u0646\\u064a\\u0629 \\u0648\\u0627\\u0644\\u0645\\u0627\\u062f\\u064a\\u0629 \\u0648\\u0627\\u0644\\u0633\\u0644\\u0648\\u0643\\u064a\\u0629\\u060c \\u0648\\u0627\\u0633\\u062a\\u0639\\u062f\\u0627\\u062f \\u0627\\u0644\\u0644\\u0627\\u0639\\u0628 \\u0644\\u0644\\u062a\\u062c\\u0627\\u0646\\u0633 \\u0648\\u0627\\u0644\\u062a\\u0623\\u0642\\u0644\\u0645 \\u0645\\u0639 \\u0627\\u0644\\u0628\\u064a\\u0626\\u0629 \\u0627\\u0644\\u062c\\u062f\\u064a\\u062f\\u0629\\u060c \\u0648\\u062a\\u062d\\u062f\\u064a\\u062f \\u0627\\u0644\\u062f\\u0648\\u0631 \\u0627\\u0644\\u0630\\u064a \\u064a\\u0624\\u062f\\u064a \\u0625\\u0644\\u0649 \\u0625\\u0636\\u0627\\u0641\\u0629 \\u0644\\u0644\\u0641\\u0631\\u064a\\u0642 \\u0648\\u064a\\u063a\\u0637\\u064a \\u0627\\u0644\\u0639\\u062c\\u0632 \\u0627\\u0644\\u0645\\u0648\\u062c\\u0648\\u062f\\u060c \\u0648\\u0639\\u0644\\u064a\\u0646\\u0627 \\u0623\\u0644\\u0627 \\u0646\\u063a\\u0641\\u0644 \\u062f\\u0631\\u0627\\u0633\\u0629 \\u0648\\u0636\\u0639\\u0647 \\u0627\\u0644\\u0639\\u0627\\u0626\\u0644\\u064a\\u060c \\u0641\\u0643\\u0645 \\u0645\\u0646 \\u0644\\u0627\\u0639\\u0628 \\u0646\\u062c\\u062d \\u0645\\u0639\\u0646\\u0627 \\u0648\\u0644\\u0643\\u0646\\u0647 \\u0639\\u0627\\u062f \\u0628\\u0633\\u0628\\u0628 \\u0639\\u0627\\u0626\\u0644\\u062a\\u0647 \\u0623\\u0648 \\u0639\\u062f\\u0645 \\u0627\\u0644\\u062a\\u0623\\u0642\\u0644\\u0645 \\u0623\\u0648 \\u0633\\u0648\\u0621 \\u0633\\u0644\\u0648\\u0643\\u0647.\\n\\u0625\\u0646 \\u0645\\u0627 \\u064a\\u0628\\u0630\\u0644 \\u0645\\u0646 \\u062c\\u0647\\u062f \\u0648\\u0645\\u0627\\u0644 \\u0641\\u064a \\u062c\\u0644\\u0628 \\u0627\\u0644\\u0644\\u0627\\u0639\\u0628\\u064a\\u0646 \\u063a\\u064a\\u0631 \\u0627\\u0644\\u0633\\u0639\\u0648\\u062f\\u064a\\u064a\\u0646 \\u064a\\u062d\\u062a\\u0627\\u062c \\u0625\\u0644\\u0649 \\u0645\\u0632\\u064a\\u062f \\u0645\\u0646 \\u0627\\u0644\\u062f\\u0631\\u0627\\u0633\\u0629 \\u0648\\u0627\\u0644\\u062e\\u0628\\u0631\\u0629 \\u0648\\u0627\\u0644\\u062d\\u0646\\u0643\\u0629 \\u0645\\u0646\\u0639\\u0627 \\u0644\\u0644\\u0647\\u062f\\u0631 \\u0627\\u0644\\u0645\\u0627\\u0644\\u064a \\u0627\\u0644\\u0643\\u0628\\u064a\\u0631 \\u0648\\u0625\\u0646 \\u062a\\u0648\\u062c\\u064a\\u0647 \\u062c\\u0632\\u0621 \\u0645\\u0646 \\u0630\\u0644\\u0643 \\u0641\\u064a \\u0625\\u0639\\u062f\\u0627\\u062f \\u062c\\u064a\\u0644 \\u062c\\u062f\\u064a\\u062f \\u064a\\u0645\\u0643\\u0646 \\u0623\\u0646 \\u064a\\u0631\\u0633\\u0645 \\u0644\\u0646\\u0627 \\u0645\\u0633\\u062a\\u0642\\u0628\\u0644\\u0627 \\u0623\\u062c\\u0645\\u0644 \\u0648\\u064a\\u062d\\u0642\\u0642 \\u0644\\u0646\\u0627 \\u0646\\u062a\\u0627\\u0626\\u062c \\u0623\\u0641\\u0636\\u0644. \",\n          \" \\u0627\\u0631\\u062a\\u0641\\u0639\\u062a \\u0623\\u0633\\u0639\\u0627\\u0631 \\u0627\\u0644\\u0639\\u0642\\u0648\\u062f \\u0627\\u0644\\u0622\\u062c\\u0644\\u0629 \\u0644\\u0644\\u0646\\u0641\\u0637 \\u0627\\u0644\\u062e\\u0627\\u0645 \\u0639\\u0646\\u062f \\u0627\\u0644\\u0625\\u063a\\u0644\\u0627\\u0642 \\u0641\\u064a \\u062a\\u0639\\u0627\\u0645\\u0644\\u0627\\u062a \\u0645\\u062a\\u0642\\u0644\\u0628\\u0629 \\u0627\\u0644\\u064a\\u0648\\u0645.\\u0648\\u0642\\u0641\\u0632 \\u0633\\u0639\\u0631 \\u0628\\u0631\\u0646\\u062a \\u0641\\u064a \\u0639\\u0642\\u0648\\u062f \\u0633\\u0628\\u062a\\u0645\\u0628\\u0631 \\u0639\\u0646\\u062f \\u0627\\u0644\\u062a\\u0633\\u0648\\u064a\\u0629 39 \\u0633\\u0646\\u062a\\u064b\\u0627 \\u0623\\u0648 0.69 % \\u0625\\u0644\\u0649 57.04 \\u062f\\u0648\\u0644\\u0627\\u0631\\u064b\\u0627 \\u0644\\u0644\\u0628\\u0631\\u0645\\u064a\\u0644 \\u0628\\u0639\\u062f\\u0645\\u0627 \\u0627\\u0646\\u062e\\u0641\\u0636 45 \\u0633\\u0646\\u062a\\u064b\\u0627 \\u0639\\u0646\\u062f \\u0627\\u0644\\u062a\\u0633\\u0648\\u064a\\u0629 \\u064a\\u0648\\u0645 \\u0623\\u0645\\u0633. \\u0648\\u0635\\u0639\\u062f \\u0627\\u0644\\u062e\\u0627\\u0645 \\u0627\\u0644\\u0623\\u0645\\u0631\\u064a\\u0643\\u064a \\u0641\\u064a \\u0627\\u0644\\u0639\\u0642\\u0648\\u062f \\u0627\\u0644\\u0622\\u062c\\u0644\\u0629 \\u0644\\u062a\\u0633\\u0644\\u064a\\u0645 \\u0633\\u0628\\u062a\\u0645\\u0628\\u0631 21 \\u0633\\u0646\\u062a\\u064b\\u0627 \\u0623\\u0648 0.42 % \\u0625\\u0644\\u0649 50.36 \\u062f\\u0648\\u0644\\u0627\\u0631\\u064b\\u0627 \\u0644\\u0644\\u0628\\u0631\\u0645\\u064a\\u0644. \",\n          \" \\u0633\\u0628\\u0642- \\u0627\\u0644\\u0631\\u064a\\u0627\\u0636: \\u0642\\u0627\\u0644\\u062a \\u0633\\u064a\\u062f\\u0629 \\u0645\\u0637\\u0644\\u0651\\u0642\\u0629: \\u0625\\u0646 \\u0628\\u0646\\u0627\\u062a\\u0647\\u0627 \\u064a\\u062a\\u0639\\u0631\\u0636\\u0646 \\u0644\\u0623\\u0630\\u0649 \\u0648\\u0628\\u0637\\u0634 \\u064a\\u0648\\u0645\\u064a \\u0645\\u0646 \\u0642\\u0650\\u0628\\u064e\\u0644 \\u0648\\u0627\\u0644\\u062f\\u0647\\u0646\\u060c \\u0628\\u0639\\u062f \\u0637\\u0644\\u0627\\u0642\\u0647\\u0627 \\u0645\\u0646\\u0647\\u061b \\u062d\\u064a\\u062b \\u062a\\u064e\\u0642\\u064e\\u062f\\u0651\\u0645\\u062a \\u0628\\u0639\\u0650\\u062f\\u0651\\u0629 \\u0634\\u0643\\u0627\\u0648\\u0649 \\u0648\\u0644\\u0645 \\u062a\\u062a\\u0644\\u0642\\u0651\\u064e \\u0625\\u062c\\u0627\\u0628\\u0629 \\u062d\\u062a\\u0649 \\u0627\\u0644\\u0622\\u0646\\u061b \\u0645\\u0648\\u0636\\u062d\\u0629 \\u0623\\u0646 \\u0625\\u062d\\u062f\\u0649 \\u0628\\u0646\\u0627\\u062a\\u0647\\u0627 \\u062a\\u0639\\u0631\\u0636\\u062a \\u0644\\u0635\\u062f\\u0645\\u0629 \\u0646\\u0641\\u0633\\u064a\\u0629 \\u0648\\u0627\\u0643\\u062a\\u0626\\u0627\\u0628 \\u0646\\u062a\\u064a\\u062c\\u0629 \\\"\\u0627\\u0644\\u062a\\u0639\\u0630\\u064a\\u0628 \\u0627\\u0644\\u0646\\u0641\\u0633\\u064a \\u0648\\u0627\\u0644\\u062c\\u0633\\u062f\\u064a\\\"\\u061b \\u0639\\u0644\\u0649 \\u062d\\u062f \\u0648\\u0635\\u0641\\u0647\\u0627\\u061b \\u0645\\u0646\\u0627\\u0634\\u062f\\u0629 \\u0625\\u0639\\u0627\\u062f\\u0629 \\u0628\\u0646\\u0627\\u062a\\u0647\\u0627 \\u0644\\u0647\\u0627\\u060c \\u0628\\u0639\\u062f \\u0623\\u0646 \\u0647\\u062f\\u062f\\u0647\\u0627 \\u0637\\u0644\\u064a\\u0642\\u0647\\u0627 \\u0628\\u0625\\u062e\\u0641\\u0627\\u0621\\u0647\\u0646 \\u0641\\u064a \\u0623\\u0645\\u0627\\u0643\\u0646 \\u0644\\u0627 \\u062a\\u0633\\u062a\\u0637\\u064a\\u0639 \\u0627\\u0644\\u0648\\u0635\\u0648\\u0644 \\u0625\\u0644\\u064a\\u0647\\u0627. \\u00a0 \\u0648\\u0623\\u0648\\u0636\\u062d\\u062a \\u0627\\u0644\\u0645\\u0648\\u0627\\u0637\\u0646\\u0629 \\\"\\u0628.\\u0648\\\" \\u0644\\u0640\\\"\\u0633\\u0628\\u0642\\\": \\\"\\u0623\\u0646\\u0627\\u0634\\u062f \\u0627\\u0644\\u0646\\u0638\\u0631 \\u0641\\u064a \\u0648\\u0636\\u0639\\u064a\\u060c \\u0648\\u0625\\u0628\\u0642\\u0627\\u0621 \\u0628\\u0646\\u0627\\u062a\\u064a \\u0645\\u0639\\u064a\\u060c \\u0648\\u0639\\u062f\\u0645 \\u0639\\u0648\\u062f\\u062a\\u0647\\u0646 \\u0644\\u0648\\u0627\\u0644\\u062f\\u0647\\u0646 \\u0627\\u0644\\u0645\\u062a\\u0632\\u0648\\u062c \\u0645\\u0646 \\u0627\\u0645\\u0631\\u0623\\u0629 \\u0623\\u062e\\u0631\\u0649\\\"\\u061b \\u0645\\u0634\\u064a\\u0631\\u0629 \\u0625\\u0644\\u0649 \\u0623\\u0646\\u0647 \\u0628\\u0639\\u062f \\u0637\\u0644\\u0627\\u0642\\u0647\\u0627 \\u0623\\u062e\\u0630 \\u0637\\u0644\\u064a\\u0642\\u0647\\u0627 \\u0628\\u0646\\u0627\\u062a\\u0647\\u0627 \\u0645\\u0646\\u0647\\u0627 \\u0648\\u062a\\u0632\\u0648\\u062c \\u0645\\u0646 \\u0627\\u0645\\u0631\\u0623\\u0629 \\u0623\\u062e\\u0631\\u0649\\u060c \\u0648\\u0647\\u0646 \\u064a\\u062a\\u0639\\u0631\\u0636\\u0646 \\u0644\\u0644\\u0623\\u0630\\u0649 \\u0628\\u0634\\u0643\\u0644 \\u064a\\u0648\\u0645\\u064a. \\u00a0 \\u0648\\u0642\\u062f\\u0651\\u0645\\u062a \\u0627\\u0644\\u0623\\u0645\\u060c \\u0634\\u0643\\u0648\\u0649 \\u0644\\u062d\\u0642\\u0648\\u0642 \\u0627\\u0644\\u0625\\u0646\\u0633\\u0627\\u0646\\u060c \\u0643\\u0645\\u0627 \\u062a\\u0648\\u062c\\u0647\\u062a \\u0625\\u0644\\u0649 \\u062f\\u0627\\u0631 \\u0627\\u0644\\u062d\\u0645\\u0627\\u064a\\u0629\\u060c \\u0648\\u0643\\u062a\\u0628\\u062a \\u0625\\u062d\\u062f\\u0649 \\u0628\\u0646\\u0627\\u062a\\u0647\\u0627 \\u0631\\u0633\\u0627\\u0644\\u0629 \\u062a\\u0648\\u0636\\u0651\\u062d \\u0641\\u064a\\u0647\\u0627 \\u0645\\u062f\\u0649 \\u0627\\u0644\\u0645\\u0623\\u0633\\u0627\\u0629 \\u0627\\u0644\\u062a\\u064a \\u064a\\u062a\\u0639\\u0631\\u0636\\u0646 \\u0644\\u0647\\u0627 \\u0645\\u0646 \\u0642\\u0650\\u0628\\u064e\\u0644 \\u0648\\u0627\\u0644\\u062f\\u0647\\u0646\\u060c \\u0648\\u0644\\u0645 \\u062a\\u062a\\u0644\\u0642\\u0651\\u064e \\u0623\\u064a \\u0646\\u062a\\u064a\\u062c\\u0629\\u061b \\u062d\\u064a\\u062b \\u0623\\u0648\\u0636\\u062d\\u062a \\u0623\\u0646 \\u0631\\u0642\\u0645 \\u0627\\u0644\\u0628\\u0644\\u0627\\u063a \\u0647\\u0648 \\\"3421\\\". \\u00a0 \\u0648\\u062a\\u0627\\u0628\\u0639\\u062a: \\\"\\u062a\\u0639\\u0631\\u0636\\u062a \\u0625\\u062d\\u062f\\u0649 \\u0628\\u0646\\u0627\\u062a\\u064a \\u0644\\u0635\\u062f\\u0645\\u0629 \\u0646\\u0641\\u0633\\u064a\\u0629 \\u0648\\u062f\\u062e\\u0644\\u062a \\u0645\\u0631\\u062d\\u0644\\u0629 \\u0627\\u0643\\u062a\\u0626\\u0627\\u0628 \\u0646\\u062a\\u064a\\u062c\\u0629 \\u0644\\u0644\\u062a\\u0639\\u0630\\u064a\\u0628 \\u0627\\u0644\\u0646\\u0641\\u0633\\u064a \\u0648\\u0627\\u0644\\u062c\\u0633\\u062f\\u064a \\u0627\\u0644\\u0630\\u064a \\u062a\\u062a\\u0644\\u0642\\u0627\\u0647 \\u0645\\u0646 \\u0648\\u0627\\u0644\\u062f\\u0647\\u0627\\u060c \\u0648\\u0647\\u0646 \\u064a\\u0631\\u0641\\u0636\\u0646 \\u0627\\u0644\\u0628\\u0642\\u0627\\u0621 \\u0645\\u0639 \\u0648\\u0627\\u0644\\u062f\\u0647\\u0646\\\"\\u060c \\u0648\\u0623\\u0636\\u0627\\u0641\\u062a: \\\"\\u0623\\u0635\\u0628\\u062d \\u0627\\u0644\\u0622\\u0646 \\u064a\\u0647\\u062f\\u062f\\u0646\\u064a \\u0628\\u0623\\u062e\\u0630 \\u0628\\u0646\\u0627\\u062a\\u064a \\u0625\\u0644\\u0649 \\u0623\\u0645\\u0627\\u0643\\u0646 \\u0644\\u0627 \\u0623\\u0633\\u062a\\u0637\\u064a\\u0639 \\u0623\\u0646 \\u0623\\u0635\\u0644 \\u0644\\u0647\\u0646 \\u0641\\u064a\\u0647\\u0627 \\u0648\\u064a\\u062d\\u0631\\u0645\\u0647\\u0646 \\u0645\\u0646\\u064a\\\"\\u061b \\u0645\\u0646\\u0627\\u0634\\u062f\\u0629 \\u0625\\u0639\\u0627\\u062f\\u0629 \\u0628\\u0646\\u0627\\u062a\\u0647\\u0627 \\u0648\\u062a\\u062e\\u0644\\u064a\\u0635\\u0647\\u0646 \\u0645\\u0646 \\u0628\\u0637\\u0634 \\u0648\\u0627\\u0644\\u062f\\u0647\\u0646 \\u0648\\u0627\\u0644\\u0645\\u0623\\u0633\\u0627\\u0629 \\u0627\\u0644\\u062a\\u064a \\u064a\\u0639\\u0627\\u0646\\u064a\\u0646 \\u0645\\u0646\\u0647\\u0627\\u061b \\u0639\\u0644\\u0649 \\u062d\\u062f \\u0648\\u0635\\u0641\\u0647\\u0627. \"\n        ],\n        \"semantic_type\": \"\",\n        \"description\": \"\"\n      }\n    }\n  ]\n}"
            }
          },
          "metadata": {},
          "execution_count": 4
        }
      ]
    },
    {
      "cell_type": "code",
      "source": [
        "# Preliminary Exploration\n",
        "df.info()"
      ],
      "metadata": {
        "colab": {
          "base_uri": "https://localhost:8080/"
        },
        "id": "nDXFNSPf6jYD",
        "outputId": "ff5f2227-c4a8-445d-ba6c-9f74c7eb6cb9"
      },
      "execution_count": null,
      "outputs": [
        {
          "output_type": "stream",
          "name": "stdout",
          "text": [
            "<class 'pandas.core.frame.DataFrame'>\n",
            "RangeIndex: 31030 entries, 0 to 31029\n",
            "Data columns (total 6 columns):\n",
            " #   Column          Non-Null Count  Dtype \n",
            "---  ------          --------------  ----- \n",
            " 0   source          31030 non-null  object\n",
            " 1   url             31030 non-null  object\n",
            " 2   date_extracted  31030 non-null  object\n",
            " 3   title           30963 non-null  object\n",
            " 4   author          26294 non-null  object\n",
            " 5   content         30897 non-null  object\n",
            "dtypes: object(6)\n",
            "memory usage: 1.4+ MB\n"
          ]
        }
      ]
    },
    {
      "cell_type": "code",
      "source": [
        "df.describe()"
      ],
      "metadata": {
        "colab": {
          "base_uri": "https://localhost:8080/",
          "height": 175
        },
        "id": "2p67HwF96nqC",
        "outputId": "6782c956-41df-41ca-b376-a358c4e542da"
      },
      "execution_count": null,
      "outputs": [
        {
          "output_type": "execute_result",
          "data": {
            "text/plain": [
              "          source                                                url  \\\n",
              "count      31030                                              31030   \n",
              "unique        14                                              31030   \n",
              "top     alriyadh  http://aawsat.com/home/article/410826/بريطانيا...   \n",
              "freq        4852                                                  1   \n",
              "\n",
              "             date_extracted      title                  author content  \n",
              "count                 31030      30963                   26294   30897  \n",
              "unique                28265      29462                    8252   30133  \n",
              "top     2015-07-25 10:02:38  كاريكاتير  «الاقتصادية» من الرياض          \n",
              "freq                      3         42                     608     189  "
            ],
            "text/html": [
              "\n",
              "  <div id=\"df-13719b5f-fb87-4538-87a5-7fb8a7acdbde\" class=\"colab-df-container\">\n",
              "    <div>\n",
              "<style scoped>\n",
              "    .dataframe tbody tr th:only-of-type {\n",
              "        vertical-align: middle;\n",
              "    }\n",
              "\n",
              "    .dataframe tbody tr th {\n",
              "        vertical-align: top;\n",
              "    }\n",
              "\n",
              "    .dataframe thead th {\n",
              "        text-align: right;\n",
              "    }\n",
              "</style>\n",
              "<table border=\"1\" class=\"dataframe\">\n",
              "  <thead>\n",
              "    <tr style=\"text-align: right;\">\n",
              "      <th></th>\n",
              "      <th>source</th>\n",
              "      <th>url</th>\n",
              "      <th>date_extracted</th>\n",
              "      <th>title</th>\n",
              "      <th>author</th>\n",
              "      <th>content</th>\n",
              "    </tr>\n",
              "  </thead>\n",
              "  <tbody>\n",
              "    <tr>\n",
              "      <th>count</th>\n",
              "      <td>31030</td>\n",
              "      <td>31030</td>\n",
              "      <td>31030</td>\n",
              "      <td>30963</td>\n",
              "      <td>26294</td>\n",
              "      <td>30897</td>\n",
              "    </tr>\n",
              "    <tr>\n",
              "      <th>unique</th>\n",
              "      <td>14</td>\n",
              "      <td>31030</td>\n",
              "      <td>28265</td>\n",
              "      <td>29462</td>\n",
              "      <td>8252</td>\n",
              "      <td>30133</td>\n",
              "    </tr>\n",
              "    <tr>\n",
              "      <th>top</th>\n",
              "      <td>alriyadh</td>\n",
              "      <td>http://aawsat.com/home/article/410826/بريطانيا...</td>\n",
              "      <td>2015-07-25 10:02:38</td>\n",
              "      <td>كاريكاتير</td>\n",
              "      <td>«الاقتصادية» من الرياض</td>\n",
              "      <td></td>\n",
              "    </tr>\n",
              "    <tr>\n",
              "      <th>freq</th>\n",
              "      <td>4852</td>\n",
              "      <td>1</td>\n",
              "      <td>3</td>\n",
              "      <td>42</td>\n",
              "      <td>608</td>\n",
              "      <td>189</td>\n",
              "    </tr>\n",
              "  </tbody>\n",
              "</table>\n",
              "</div>\n",
              "    <div class=\"colab-df-buttons\">\n",
              "\n",
              "  <div class=\"colab-df-container\">\n",
              "    <button class=\"colab-df-convert\" onclick=\"convertToInteractive('df-13719b5f-fb87-4538-87a5-7fb8a7acdbde')\"\n",
              "            title=\"Convert this dataframe to an interactive table.\"\n",
              "            style=\"display:none;\">\n",
              "\n",
              "  <svg xmlns=\"http://www.w3.org/2000/svg\" height=\"24px\" viewBox=\"0 -960 960 960\">\n",
              "    <path d=\"M120-120v-720h720v720H120Zm60-500h600v-160H180v160Zm220 220h160v-160H400v160Zm0 220h160v-160H400v160ZM180-400h160v-160H180v160Zm440 0h160v-160H620v160ZM180-180h160v-160H180v160Zm440 0h160v-160H620v160Z\"/>\n",
              "  </svg>\n",
              "    </button>\n",
              "\n",
              "  <style>\n",
              "    .colab-df-container {\n",
              "      display:flex;\n",
              "      gap: 12px;\n",
              "    }\n",
              "\n",
              "    .colab-df-convert {\n",
              "      background-color: #E8F0FE;\n",
              "      border: none;\n",
              "      border-radius: 50%;\n",
              "      cursor: pointer;\n",
              "      display: none;\n",
              "      fill: #1967D2;\n",
              "      height: 32px;\n",
              "      padding: 0 0 0 0;\n",
              "      width: 32px;\n",
              "    }\n",
              "\n",
              "    .colab-df-convert:hover {\n",
              "      background-color: #E2EBFA;\n",
              "      box-shadow: 0px 1px 2px rgba(60, 64, 67, 0.3), 0px 1px 3px 1px rgba(60, 64, 67, 0.15);\n",
              "      fill: #174EA6;\n",
              "    }\n",
              "\n",
              "    .colab-df-buttons div {\n",
              "      margin-bottom: 4px;\n",
              "    }\n",
              "\n",
              "    [theme=dark] .colab-df-convert {\n",
              "      background-color: #3B4455;\n",
              "      fill: #D2E3FC;\n",
              "    }\n",
              "\n",
              "    [theme=dark] .colab-df-convert:hover {\n",
              "      background-color: #434B5C;\n",
              "      box-shadow: 0px 1px 3px 1px rgba(0, 0, 0, 0.15);\n",
              "      filter: drop-shadow(0px 1px 2px rgba(0, 0, 0, 0.3));\n",
              "      fill: #FFFFFF;\n",
              "    }\n",
              "  </style>\n",
              "\n",
              "    <script>\n",
              "      const buttonEl =\n",
              "        document.querySelector('#df-13719b5f-fb87-4538-87a5-7fb8a7acdbde button.colab-df-convert');\n",
              "      buttonEl.style.display =\n",
              "        google.colab.kernel.accessAllowed ? 'block' : 'none';\n",
              "\n",
              "      async function convertToInteractive(key) {\n",
              "        const element = document.querySelector('#df-13719b5f-fb87-4538-87a5-7fb8a7acdbde');\n",
              "        const dataTable =\n",
              "          await google.colab.kernel.invokeFunction('convertToInteractive',\n",
              "                                                    [key], {});\n",
              "        if (!dataTable) return;\n",
              "\n",
              "        const docLinkHtml = 'Like what you see? Visit the ' +\n",
              "          '<a target=\"_blank\" href=https://colab.research.google.com/notebooks/data_table.ipynb>data table notebook</a>'\n",
              "          + ' to learn more about interactive tables.';\n",
              "        element.innerHTML = '';\n",
              "        dataTable['output_type'] = 'display_data';\n",
              "        await google.colab.output.renderOutput(dataTable, element);\n",
              "        const docLink = document.createElement('div');\n",
              "        docLink.innerHTML = docLinkHtml;\n",
              "        element.appendChild(docLink);\n",
              "      }\n",
              "    </script>\n",
              "  </div>\n",
              "\n",
              "\n",
              "<div id=\"df-58d7cfa9-e155-452b-acc5-32068d8f85a8\">\n",
              "  <button class=\"colab-df-quickchart\" onclick=\"quickchart('df-58d7cfa9-e155-452b-acc5-32068d8f85a8')\"\n",
              "            title=\"Suggest charts\"\n",
              "            style=\"display:none;\">\n",
              "\n",
              "<svg xmlns=\"http://www.w3.org/2000/svg\" height=\"24px\"viewBox=\"0 0 24 24\"\n",
              "     width=\"24px\">\n",
              "    <g>\n",
              "        <path d=\"M19 3H5c-1.1 0-2 .9-2 2v14c0 1.1.9 2 2 2h14c1.1 0 2-.9 2-2V5c0-1.1-.9-2-2-2zM9 17H7v-7h2v7zm4 0h-2V7h2v10zm4 0h-2v-4h2v4z\"/>\n",
              "    </g>\n",
              "</svg>\n",
              "  </button>\n",
              "\n",
              "<style>\n",
              "  .colab-df-quickchart {\n",
              "      --bg-color: #E8F0FE;\n",
              "      --fill-color: #1967D2;\n",
              "      --hover-bg-color: #E2EBFA;\n",
              "      --hover-fill-color: #174EA6;\n",
              "      --disabled-fill-color: #AAA;\n",
              "      --disabled-bg-color: #DDD;\n",
              "  }\n",
              "\n",
              "  [theme=dark] .colab-df-quickchart {\n",
              "      --bg-color: #3B4455;\n",
              "      --fill-color: #D2E3FC;\n",
              "      --hover-bg-color: #434B5C;\n",
              "      --hover-fill-color: #FFFFFF;\n",
              "      --disabled-bg-color: #3B4455;\n",
              "      --disabled-fill-color: #666;\n",
              "  }\n",
              "\n",
              "  .colab-df-quickchart {\n",
              "    background-color: var(--bg-color);\n",
              "    border: none;\n",
              "    border-radius: 50%;\n",
              "    cursor: pointer;\n",
              "    display: none;\n",
              "    fill: var(--fill-color);\n",
              "    height: 32px;\n",
              "    padding: 0;\n",
              "    width: 32px;\n",
              "  }\n",
              "\n",
              "  .colab-df-quickchart:hover {\n",
              "    background-color: var(--hover-bg-color);\n",
              "    box-shadow: 0 1px 2px rgba(60, 64, 67, 0.3), 0 1px 3px 1px rgba(60, 64, 67, 0.15);\n",
              "    fill: var(--button-hover-fill-color);\n",
              "  }\n",
              "\n",
              "  .colab-df-quickchart-complete:disabled,\n",
              "  .colab-df-quickchart-complete:disabled:hover {\n",
              "    background-color: var(--disabled-bg-color);\n",
              "    fill: var(--disabled-fill-color);\n",
              "    box-shadow: none;\n",
              "  }\n",
              "\n",
              "  .colab-df-spinner {\n",
              "    border: 2px solid var(--fill-color);\n",
              "    border-color: transparent;\n",
              "    border-bottom-color: var(--fill-color);\n",
              "    animation:\n",
              "      spin 1s steps(1) infinite;\n",
              "  }\n",
              "\n",
              "  @keyframes spin {\n",
              "    0% {\n",
              "      border-color: transparent;\n",
              "      border-bottom-color: var(--fill-color);\n",
              "      border-left-color: var(--fill-color);\n",
              "    }\n",
              "    20% {\n",
              "      border-color: transparent;\n",
              "      border-left-color: var(--fill-color);\n",
              "      border-top-color: var(--fill-color);\n",
              "    }\n",
              "    30% {\n",
              "      border-color: transparent;\n",
              "      border-left-color: var(--fill-color);\n",
              "      border-top-color: var(--fill-color);\n",
              "      border-right-color: var(--fill-color);\n",
              "    }\n",
              "    40% {\n",
              "      border-color: transparent;\n",
              "      border-right-color: var(--fill-color);\n",
              "      border-top-color: var(--fill-color);\n",
              "    }\n",
              "    60% {\n",
              "      border-color: transparent;\n",
              "      border-right-color: var(--fill-color);\n",
              "    }\n",
              "    80% {\n",
              "      border-color: transparent;\n",
              "      border-right-color: var(--fill-color);\n",
              "      border-bottom-color: var(--fill-color);\n",
              "    }\n",
              "    90% {\n",
              "      border-color: transparent;\n",
              "      border-bottom-color: var(--fill-color);\n",
              "    }\n",
              "  }\n",
              "</style>\n",
              "\n",
              "  <script>\n",
              "    async function quickchart(key) {\n",
              "      const quickchartButtonEl =\n",
              "        document.querySelector('#' + key + ' button');\n",
              "      quickchartButtonEl.disabled = true;  // To prevent multiple clicks.\n",
              "      quickchartButtonEl.classList.add('colab-df-spinner');\n",
              "      try {\n",
              "        const charts = await google.colab.kernel.invokeFunction(\n",
              "            'suggestCharts', [key], {});\n",
              "      } catch (error) {\n",
              "        console.error('Error during call to suggestCharts:', error);\n",
              "      }\n",
              "      quickchartButtonEl.classList.remove('colab-df-spinner');\n",
              "      quickchartButtonEl.classList.add('colab-df-quickchart-complete');\n",
              "    }\n",
              "    (() => {\n",
              "      let quickchartButtonEl =\n",
              "        document.querySelector('#df-58d7cfa9-e155-452b-acc5-32068d8f85a8 button');\n",
              "      quickchartButtonEl.style.display =\n",
              "        google.colab.kernel.accessAllowed ? 'block' : 'none';\n",
              "    })();\n",
              "  </script>\n",
              "</div>\n",
              "\n",
              "    </div>\n",
              "  </div>\n"
            ],
            "application/vnd.google.colaboratory.intrinsic+json": {
              "type": "dataframe",
              "summary": "{\n  \"name\": \"df\",\n  \"rows\": 4,\n  \"fields\": [\n    {\n      \"column\": \"source\",\n      \"properties\": {\n        \"dtype\": \"string\",\n        \"num_unique_values\": 4,\n        \"samples\": [\n          14,\n          \"4852\",\n          \"31030\"\n        ],\n        \"semantic_type\": \"\",\n        \"description\": \"\"\n      }\n    },\n    {\n      \"column\": \"url\",\n      \"properties\": {\n        \"dtype\": \"string\",\n        \"num_unique_values\": 3,\n        \"samples\": [\n          \"31030\",\n          \"http://aawsat.com/home/article/410826/\\u0628\\u0631\\u064a\\u0637\\u0627\\u0646\\u064a\\u0627-\\u0623\\u0631\\u0628\\u0639\\u0629-\\u0645\\u062d\\u0627\\u0648\\u0631-\\u0644\\u0627\\u0633\\u062a\\u0631\\u0627\\u062a\\u064a\\u062c\\u064a\\u0629-\\u062c\\u062f\\u064a\\u062f\\u0629-\\u062a\\u062a\\u0635\\u062f\\u0649-\\u0644\\u0644\\u062a\\u0637\\u0631\\u0641-\\u0639\\u0644\\u0649-\\u0645\\u062f\\u0649-\\u062e\\u0645\\u0633-\\u0633\\u0646\\u0648\\u0627\\u062a\",\n          \"1\"\n        ],\n        \"semantic_type\": \"\",\n        \"description\": \"\"\n      }\n    },\n    {\n      \"column\": \"date_extracted\",\n      \"properties\": {\n        \"dtype\": \"date\",\n        \"min\": \"1970-01-01 00:00:00.000000003\",\n        \"max\": \"2015-07-25 10:02:38\",\n        \"num_unique_values\": 4,\n        \"samples\": [\n          28265,\n          \"3\",\n          \"31030\"\n        ],\n        \"semantic_type\": \"\",\n        \"description\": \"\"\n      }\n    },\n    {\n      \"column\": \"title\",\n      \"properties\": {\n        \"dtype\": \"string\",\n        \"num_unique_values\": 4,\n        \"samples\": [\n          29462,\n          \"42\",\n          \"30963\"\n        ],\n        \"semantic_type\": \"\",\n        \"description\": \"\"\n      }\n    },\n    {\n      \"column\": \"author\",\n      \"properties\": {\n        \"dtype\": \"string\",\n        \"num_unique_values\": 4,\n        \"samples\": [\n          8252,\n          \"608\",\n          \"26294\"\n        ],\n        \"semantic_type\": \"\",\n        \"description\": \"\"\n      }\n    },\n    {\n      \"column\": \"content\",\n      \"properties\": {\n        \"dtype\": \"string\",\n        \"num_unique_values\": 4,\n        \"samples\": [\n          30133,\n          \"189\",\n          \"30897\"\n        ],\n        \"semantic_type\": \"\",\n        \"description\": \"\"\n      }\n    }\n  ]\n}"
            }
          },
          "metadata": {},
          "execution_count": 6
        }
      ]
    },
    {
      "cell_type": "markdown",
      "source": [
        "### Analyzing Missing Data"
      ],
      "metadata": {
        "id": "WZiPih-t6rQm"
      }
    },
    {
      "cell_type": "code",
      "source": [
        "df.isnull().sum()"
      ],
      "metadata": {
        "colab": {
          "base_uri": "https://localhost:8080/",
          "height": 272
        },
        "id": "GOmoJjWK6trG",
        "outputId": "7e1c4406-7d39-4934-f5c5-2601e5d41e14"
      },
      "execution_count": null,
      "outputs": [
        {
          "output_type": "execute_result",
          "data": {
            "text/plain": [
              "source               0\n",
              "url                  0\n",
              "date_extracted       0\n",
              "title               67\n",
              "author            4736\n",
              "content            133\n",
              "dtype: int64"
            ],
            "text/html": [
              "<div>\n",
              "<style scoped>\n",
              "    .dataframe tbody tr th:only-of-type {\n",
              "        vertical-align: middle;\n",
              "    }\n",
              "\n",
              "    .dataframe tbody tr th {\n",
              "        vertical-align: top;\n",
              "    }\n",
              "\n",
              "    .dataframe thead th {\n",
              "        text-align: right;\n",
              "    }\n",
              "</style>\n",
              "<table border=\"1\" class=\"dataframe\">\n",
              "  <thead>\n",
              "    <tr style=\"text-align: right;\">\n",
              "      <th></th>\n",
              "      <th>0</th>\n",
              "    </tr>\n",
              "  </thead>\n",
              "  <tbody>\n",
              "    <tr>\n",
              "      <th>source</th>\n",
              "      <td>0</td>\n",
              "    </tr>\n",
              "    <tr>\n",
              "      <th>url</th>\n",
              "      <td>0</td>\n",
              "    </tr>\n",
              "    <tr>\n",
              "      <th>date_extracted</th>\n",
              "      <td>0</td>\n",
              "    </tr>\n",
              "    <tr>\n",
              "      <th>title</th>\n",
              "      <td>67</td>\n",
              "    </tr>\n",
              "    <tr>\n",
              "      <th>author</th>\n",
              "      <td>4736</td>\n",
              "    </tr>\n",
              "    <tr>\n",
              "      <th>content</th>\n",
              "      <td>133</td>\n",
              "    </tr>\n",
              "  </tbody>\n",
              "</table>\n",
              "</div><br><label><b>dtype:</b> int64</label>"
            ]
          },
          "metadata": {},
          "execution_count": 7
        }
      ]
    },
    {
      "cell_type": "code",
      "source": [
        "# Calculate the percentage of missing values in each column\n",
        "missing_percentage = df.isnull().mean() * 100\n",
        "print(\"\\nPercentage of missing values in each column:\")\n",
        "missing_percentage"
      ],
      "metadata": {
        "colab": {
          "base_uri": "https://localhost:8080/",
          "height": 307
        },
        "id": "rIFBovm260z2",
        "outputId": "367fc1a2-9d20-4218-8081-dff515fa4422"
      },
      "execution_count": null,
      "outputs": [
        {
          "output_type": "stream",
          "name": "stdout",
          "text": [
            "\n",
            "Percentage of missing values in each column:\n"
          ]
        },
        {
          "output_type": "execute_result",
          "data": {
            "text/plain": [
              "source             0.000000\n",
              "url                0.000000\n",
              "date_extracted     0.000000\n",
              "title              0.215920\n",
              "author            15.262649\n",
              "content            0.428617\n",
              "dtype: float64"
            ],
            "text/html": [
              "<div>\n",
              "<style scoped>\n",
              "    .dataframe tbody tr th:only-of-type {\n",
              "        vertical-align: middle;\n",
              "    }\n",
              "\n",
              "    .dataframe tbody tr th {\n",
              "        vertical-align: top;\n",
              "    }\n",
              "\n",
              "    .dataframe thead th {\n",
              "        text-align: right;\n",
              "    }\n",
              "</style>\n",
              "<table border=\"1\" class=\"dataframe\">\n",
              "  <thead>\n",
              "    <tr style=\"text-align: right;\">\n",
              "      <th></th>\n",
              "      <th>0</th>\n",
              "    </tr>\n",
              "  </thead>\n",
              "  <tbody>\n",
              "    <tr>\n",
              "      <th>source</th>\n",
              "      <td>0.000000</td>\n",
              "    </tr>\n",
              "    <tr>\n",
              "      <th>url</th>\n",
              "      <td>0.000000</td>\n",
              "    </tr>\n",
              "    <tr>\n",
              "      <th>date_extracted</th>\n",
              "      <td>0.000000</td>\n",
              "    </tr>\n",
              "    <tr>\n",
              "      <th>title</th>\n",
              "      <td>0.215920</td>\n",
              "    </tr>\n",
              "    <tr>\n",
              "      <th>author</th>\n",
              "      <td>15.262649</td>\n",
              "    </tr>\n",
              "    <tr>\n",
              "      <th>content</th>\n",
              "      <td>0.428617</td>\n",
              "    </tr>\n",
              "  </tbody>\n",
              "</table>\n",
              "</div><br><label><b>dtype:</b> float64</label>"
            ]
          },
          "metadata": {},
          "execution_count": 8
        }
      ]
    },
    {
      "cell_type": "markdown",
      "source": [
        "### Understand Data Distribution"
      ],
      "metadata": {
        "id": "D0KRwBkp6-iC"
      }
    },
    {
      "cell_type": "code",
      "source": [
        "# Checking the distribution of the content length\n",
        "df['content_length'] = df['content'].apply(lambda x: len(str(x)))\n",
        "print(\"\\nContent Length Statistics:\")\n",
        "print(df['content_length'].describe())"
      ],
      "metadata": {
        "colab": {
          "base_uri": "https://localhost:8080/"
        },
        "id": "Dqh0nW_p6_5_",
        "outputId": "a6e37579-e787-45f5-aa3e-3b3998c4de7e"
      },
      "execution_count": null,
      "outputs": [
        {
          "output_type": "stream",
          "name": "stdout",
          "text": [
            "\n",
            "Content Length Statistics:\n",
            "count    31030.000000\n",
            "mean      1712.766935\n",
            "std       1655.297696\n",
            "min          1.000000\n",
            "25%        715.000000\n",
            "50%       1210.000000\n",
            "75%       2131.000000\n",
            "max      33687.000000\n",
            "Name: content_length, dtype: float64\n"
          ]
        }
      ]
    },
    {
      "cell_type": "code",
      "source": [
        "# Checking the distribution of the title length\n",
        "df['title_length'] = df['title'].fillna(\"\").apply(lambda x: len(str(x)))\n",
        "print(\"\\nTitle Length Statistics:\")\n",
        "print(df['title_length'].describe())"
      ],
      "metadata": {
        "colab": {
          "base_uri": "https://localhost:8080/"
        },
        "id": "w5r1xcx07InF",
        "outputId": "bd002892-89e9-4a9a-cce6-252aaa2842a0"
      },
      "execution_count": null,
      "outputs": [
        {
          "output_type": "stream",
          "name": "stdout",
          "text": [
            "\n",
            "Title Length Statistics:\n",
            "count    31030.000000\n",
            "mean        47.263874\n",
            "std         17.240131\n",
            "min          0.000000\n",
            "25%         36.000000\n",
            "50%         48.000000\n",
            "75%         58.000000\n",
            "max        181.000000\n",
            "Name: title_length, dtype: float64\n"
          ]
        }
      ]
    },
    {
      "cell_type": "markdown",
      "source": [
        "### Analyze Data Source"
      ],
      "metadata": {
        "id": "pHnf4f5o7PYl"
      }
    },
    {
      "cell_type": "code",
      "source": [
        "print(df.shape)\n",
        "# total number of unique categories\n",
        "print(\"Unique categories:\",df['source'].nunique())\n",
        "df['source'].unique()"
      ],
      "metadata": {
        "colab": {
          "base_uri": "https://localhost:8080/"
        },
        "id": "vEAdm_Ie7Rmm",
        "outputId": "0819e4bd-22d6-4f0a-bbc5-ac2d4c9d649d"
      },
      "execution_count": null,
      "outputs": [
        {
          "output_type": "stream",
          "name": "stdout",
          "text": [
            "(31030, 8)\n",
            "Unique categories: 14\n"
          ]
        },
        {
          "output_type": "execute_result",
          "data": {
            "text/plain": [
              "array(['aawsat', 'aleqtisadiya', 'aljazirah', 'almadina', 'alriyadh',\n",
              "       'alwatan', 'alweeam', 'alyaum', 'arreyadi', 'okaz', 'sabq',\n",
              "       '3alyoum', 'was', 'arriyadiyah'], dtype=object)"
            ]
          },
          "metadata": {},
          "execution_count": 11
        }
      ]
    },
    {
      "cell_type": "code",
      "source": [
        "# Unique sources and their counts\n",
        "print(\"\\nUnique sources and their counts:\")\n",
        "print(df['source'].value_counts())"
      ],
      "metadata": {
        "colab": {
          "base_uri": "https://localhost:8080/"
        },
        "id": "q6Tb7lnP7b10",
        "outputId": "c5aca2bb-9baf-4008-f4da-052b3b557d57"
      },
      "execution_count": null,
      "outputs": [
        {
          "output_type": "stream",
          "name": "stdout",
          "text": [
            "\n",
            "Unique sources and their counts:\n",
            "source\n",
            "alriyadh        4852\n",
            "aljazirah       3690\n",
            "alyaum          3065\n",
            "aleqtisadiya    2964\n",
            "aawsat          2947\n",
            "okaz            2846\n",
            "alwatan         2279\n",
            "almadina        2252\n",
            "alweeam         2090\n",
            "3alyoum         2080\n",
            "sabq            1411\n",
            "was              369\n",
            "arreyadi         133\n",
            "arriyadiyah       52\n",
            "Name: count, dtype: int64\n"
          ]
        }
      ]
    },
    {
      "cell_type": "code",
      "source": [
        "# Checking the number of unique authors\n",
        "print(\"\\nNumber of unique authors:\", df['author'].nunique())"
      ],
      "metadata": {
        "colab": {
          "base_uri": "https://localhost:8080/"
        },
        "id": "uzUu2bUg7hbV",
        "outputId": "33e3fb61-24ae-4bad-c090-e7f5163a2335"
      },
      "execution_count": null,
      "outputs": [
        {
          "output_type": "stream",
          "name": "stdout",
          "text": [
            "\n",
            "Number of unique authors: 8252\n"
          ]
        }
      ]
    },
    {
      "cell_type": "markdown",
      "source": [
        "### Visualizing Data"
      ],
      "metadata": {
        "id": "W7tSNSUH7lph"
      }
    },
    {
      "cell_type": "code",
      "source": [
        "import matplotlib.pyplot as plt\n",
        "\n",
        "# Analyzing the 'date_extracted' column\n",
        "# Convert 'date_extracted' to datetime format\n",
        "df['date_extracted'] = pd.to_datetime(df['date_extracted'], errors='coerce')\n",
        "\n",
        "# Extract year and month for further analysis\n",
        "df['year'] = df['date_extracted'].dt.year\n",
        "df['month'] = df['date_extracted'].dt.month\n",
        "\n",
        "# Plotting the distribution of articles by year\n",
        "plt.figure(figsize=(10, 6))\n",
        "df['year'].value_counts().sort_index().plot(kind='bar')\n",
        "plt.title('Number of Articles Extracted Per Year')\n",
        "plt.xlabel('Year')\n",
        "plt.ylabel('Number of Articles')\n",
        "plt.show()\n",
        "\n",
        "# Plotting the distribution of articles by month\n",
        "plt.figure(figsize=(10, 6))\n",
        "df['month'].value_counts().sort_index().plot(kind='bar')\n",
        "plt.title('Number of Articles Extracted Per Month')\n",
        "plt.xlabel('Month')\n",
        "plt.ylabel('Number of Articles')\n",
        "plt.show()"
      ],
      "metadata": {
        "colab": {
          "base_uri": "https://localhost:8080/",
          "height": 1000
        },
        "id": "g5BVhquC7n3U",
        "outputId": "01b2efec-7a88-4db3-8250-d8536944e1de"
      },
      "execution_count": null,
      "outputs": [
        {
          "output_type": "display_data",
          "data": {
            "text/plain": [
              "<Figure size 1000x600 with 1 Axes>"
            ],
            "image/png": "[encoded data removed]"
          },
          "metadata": {}
        },
        {
          "output_type": "display_data",
          "data": {
            "text/plain": [
              "<Figure size 1000x600 with 1 Axes>"
            ],
            "image/png": "[encoded data removed]"
          },
          "metadata": {}
        }
      ]
    },
    {
      "cell_type": "code",
      "source": [
        "# Plotting the distribution of content length\n",
        "plt.figure(figsize=(10, 6))\n",
        "df['content_length'].hist(bins=50)\n",
        "plt.title(\"Content Length Distribution\")\n",
        "plt.xlabel(\"Content Length\")\n",
        "plt.ylabel(\"Frequency\")\n",
        "plt.show()\n"
      ],
      "metadata": {
        "colab": {
          "base_uri": "https://localhost:8080/",
          "height": 564
        },
        "id": "w-HD7ybl79oS",
        "outputId": "44c1c6ff-26e9-420a-a739-b3c1f1a73662"
      },
      "execution_count": null,
      "outputs": [
        {
          "output_type": "display_data",
          "data": {
            "text/plain": [
              "<Figure size 1000x600 with 1 Axes>"
            ],
            "image/png": "[encoded data removed]"
          },
          "metadata": {}
        }
      ]
    },
    {
      "cell_type": "code",
      "source": [
        "df['source'].value_counts().plot(kind='bar', figsize=(10, 5), title='Number of Articles by Source')\n",
        "plt.show()"
      ],
      "metadata": {
        "colab": {
          "base_uri": "https://localhost:8080/",
          "height": 558
        },
        "id": "rHtvomnv8Dla",
        "outputId": "54fd4f36-9493-42d9-b9c1-f2bead32acc0"
      },
      "execution_count": null,
      "outputs": [
        {
          "output_type": "display_data",
          "data": {
            "text/plain": [
              "<Figure size 1000x500 with 1 Axes>"
            ],
            "image/png": "[encoded data removed]"
          },
          "metadata": {}
        }
      ]
    },
    {
      "cell_type": "code",
      "source": [
        "df['author'].value_counts().head(10).plot(kind='bar', figsize=(10, 5), title='Top 10 Authors by Article Count')\n",
        "plt.show()"
      ],
      "metadata": {
        "colab": {
          "base_uri": "https://localhost:8080/",
          "height": 715
        },
        "id": "Bc1BAmu48IgU",
        "outputId": "a0c5f697-7ade-4c25-b2eb-b94750aa6d64"
      },
      "execution_count": null,
      "outputs": [
        {
          "output_type": "display_data",
          "data": {
            "text/plain": [
              "<Figure size 1000x500 with 1 Axes>"
            ],
            "image/png": "[encoded data removed]"
          },
          "metadata": {}
        }
      ]
    },
    {
      "cell_type": "markdown",
      "source": [
        "### Summary Insights"
      ],
      "metadata": {
        "id": "0SpCBwSX8Oyo"
      }
    },
    {
      "cell_type": "markdown",
      "source": [
        "1 - The dataset consists of 14 unique sources and 8,252 unique authors\n",
        "\n",
        "2- The columns source, url, and date_extracted have no missing values, while title has around 0.22% missing values, author has about 15.26% missing values, and content has 0.43% missing values.\n",
        "\n",
        "3- The content length ranges from 1 to 33,687 characters, with an average of approximately 1,720 characters per article.\n",
        "\n",
        "4- The title length varies from 2 to 181 characters, with an average of about 47 characters.\n",
        "\n",
        "5- This indicates that the dataset is relatively clean, with only minor issues with missing values in the title and content.\n",
        "\n",
        "6- the content not labled (no  catogry)\n"
      ],
      "metadata": {
        "id": "28-lZ4kj8SAX"
      }
    },
    {
      "cell_type": "markdown",
      "source": [
        "## Catogrization"
      ],
      "metadata": {
        "id": "2HBO_s1hBRtp"
      }
    },
    {
      "cell_type": "code",
      "source": [
        "\n",
        "# Define Arabic categories and their associated keywords\n",
        "categories = {\n",
        "    \"سيارات\": [\"سيارة\", \"محرك\", \"مركبة\", \"طريق\"],\n",
        "    \"ترفيه\": [\"حفلة\", \"موسيقى\", \"فيلم\", \"عرض\", \"فن\"],\n",
        "    \"تمويل\": [\"بنك\", \"استثمار\", \"اقتصاد\", \"سوق الأسهم\", \"عملات\"],\n",
        "    \"طعام وشراب\": [\"مطعم\", \"وصفة\", \"طعام\", \"شراب\", \"طبخ\"],\n",
        "    \"صحة\": [\"صحة\", \"مرض\", \"علاج\", \"مستشفى\", \"دواء\"],\n",
        "    \"أطفال\": [\"أطفال\", \"لعب\", \"مدرسة\", \"تعليم\", \"قصص\"],\n",
        "    \"أسلوب الحياة\": [\"موضة\", \"أناقة\", \"ديكور\", \"ملابس\"],\n",
        "    \"الشرق الأوسط\": [\"سوريا\", \"لبنان\", \"مصر\", \"خليج\", \"إيران\"],\n",
        "    \"أفلام\": [\"سينما\", \"فيلم\", \"عرض\", \"تذاكر\"],\n",
        "    \"موسيقى\": [\"أغنية\", \"موسيقى\", \"حفل\", \"ألبوم\"],\n",
        "    \"أخبار\": [\"خبر\", \"سياسة\", \"انتخابات\", \"صحيفة\", \"نشرة\"],\n",
        "    \"أمريكا الشمالية\": [\"الولايات المتحدة\", \"كندا\", \"أمريكا\"],\n",
        "    \"رياضة\": [\"مباراة\", \"لاعب\", \"فريق\", \"رياضة\", \"كأس\"],\n",
        "    \"سفر\": [\"سفر\", \"رحلة\", \"طائرة\", \"فنادق\", \"سياحة\"],\n",
        "    \"تلفزيون\": [\"مسلسل\", \"برنامج\", \"تلفزيون\", \"قناة\"],\n",
        "    \"فيديو\": [\"فيديو\", \"تصوير\", \"كاميرا\"],\n",
        "    \"طقس\": [\"طقس\", \"أمطار\", \"درجة الحرارة\", \"جو\", \"رياح\"]\n",
        "}\n"
      ],
      "metadata": {
        "id": "t7Y6qgP-8N37"
      },
      "execution_count": null,
      "outputs": []
    },
    {
      "cell_type": "code",
      "source": [
        "# Function to categorize content based on keywords\n",
        "def categorize_content(content):\n",
        "    for category, keywords in categories.items():\n",
        "        for keyword in keywords:\n",
        "            if pd.notna(content) and keyword in content:\n",
        "                return category\n",
        "    return \"غير مصنف\"  # Return \"غير مصنف\" (Uncategorized) if no keywords match\n",
        "\n",
        "# Apply the categorization function to the content column\n",
        "df['category'] = df['content'].apply(categorize_content)\n",
        "\n",
        "# Display the first few rows to check the categorization\n",
        "print(df[['content', 'category']].head())\n",
        "\n"
      ],
      "metadata": {
        "colab": {
          "base_uri": "https://localhost:8080/"
        },
        "id": "l-QvnpWXBf3a",
        "outputId": "2c655bea-a1f6-460b-cdc5-f2a6247cb769"
      },
      "execution_count": null,
      "outputs": [
        {
          "output_type": "stream",
          "name": "stdout",
          "text": [
            "                                             content      category\n",
            "0  حدد رئيس الوزراء البريطاني ديفيد كاميرون، اليو...        سيارات\n",
            "1  أصدر الرئيس عبدربه منصور هادي رئيس الجمهورية ا...         ترفيه\n",
            "2  وافق مجلس الأمن الدولي، اليوم (الاثنين)، على ا...  الشرق الأوسط\n",
            "3  قال مسؤولون أفغان ان 14 جنديا أفغانيا قتلوا في...        سيارات\n",
            "4  أعلنت وزارة الخارجية الايطالية، اليوم (الاثنين...       تلفزيون\n"
          ]
        }
      ]
    },
    {
      "cell_type": "code",
      "source": [
        "df"
      ],
      "metadata": {
        "colab": {
          "base_uri": "https://localhost:8080/",
          "height": 597
        },
        "id": "2Ch26443Bs1e",
        "outputId": "65f5cec1-8ae4-4036-cec6-9b697849c444"
      },
      "execution_count": null,
      "outputs": [
        {
          "output_type": "execute_result",
          "data": {
            "text/plain": [
              "       source                                                url  \\\n",
              "0      aawsat  http://aawsat.com/home/article/410826/بريطانيا...   \n",
              "1      aawsat  http://aawsat.com/home/article/410801/الرئيس-ه...   \n",
              "2      aawsat  http://aawsat.com/home/article/410796/مجلس-الأ...   \n",
              "3      aawsat  http://aawsat.com/home/article/410771/«نيران-ص...   \n",
              "4      aawsat  http://aawsat.com/home/article/410751/الخارجية...   \n",
              "...       ...                                                ...   \n",
              "31025     was       http://www.spa.gov.sa/details.php?id=1387081   \n",
              "31026     was       http://www.spa.gov.sa/details.php?id=1387080   \n",
              "31027     was       http://www.spa.gov.sa/details.php?id=1387079   \n",
              "31028     was       http://www.spa.gov.sa/details.php?id=1387078   \n",
              "31029     was       http://www.spa.gov.sa/details.php?id=1387077   \n",
              "\n",
              "           date_extracted                                              title  \\\n",
              "0     2015-07-21 02:51:32  بريطانيا: أربعة محاور لاستراتيجية جديدة تتصدى ...   \n",
              "1     2015-07-21 02:51:33           الرئيس هادي يعين نايف البكري محافظا لعدن   \n",
              "2     2015-07-21 02:51:35  مجلس الأمن يصادق على «الاتفاق النووي».. وإيران...   \n",
              "3     2015-07-21 02:51:37  «نيران صديقة» أميركية تودي بحياة 14 جنديا أفغانيا   \n",
              "4     2015-07-21 02:51:38  الخارجية الإيطالية: أربعة من مواطنينا مخطوفون ...   \n",
              "...                   ...                                                ...   \n",
              "31025 2015-08-11 18:51:24  عام / وزير الشؤون البلدية يوجه بإنشاء مكاتب لإ...   \n",
              "31026 2015-08-11 18:51:25  عام / هيئة الإغاثة تصف أوضاع اللاجئين الهاربين...   \n",
              "31027 2015-08-11 18:51:26  عام / المشرف العام على مركز الملك سلمان للإغاث...   \n",
              "31028 2015-08-11 18:51:32  رياضي / أخضر الطائرة في مواجهة مرتقبة أمام الج...   \n",
              "31029 2015-08-11 18:51:33  اقتصادي / الأسهم الباكستانية تغلق على ارتفاع ب...   \n",
              "\n",
              "                              author  \\\n",
              "0                    لندن: رنيم حنوش   \n",
              "1       لندن: «الشرق الأوسط أونلاين»   \n",
              "2      لندن: «الشرق الأوسط  أونلاين»   \n",
              "3       لندن: «الشرق الأوسط أونلاين»   \n",
              "4       لندن: «الشرق الأوسط أونلاين»   \n",
              "...                              ...   \n",
              "31025                            NaN   \n",
              "31026                            NaN   \n",
              "31027                            NaN   \n",
              "31028                            NaN   \n",
              "31029                            NaN   \n",
              "\n",
              "                                                 content  content_length  \\\n",
              "0      حدد رئيس الوزراء البريطاني ديفيد كاميرون، اليو...            2555   \n",
              "1      أصدر الرئيس عبدربه منصور هادي رئيس الجمهورية ا...            1204   \n",
              "2      وافق مجلس الأمن الدولي، اليوم (الاثنين)، على ا...             698   \n",
              "3      قال مسؤولون أفغان ان 14 جنديا أفغانيا قتلوا في...            1529   \n",
              "4      أعلنت وزارة الخارجية الايطالية، اليوم (الاثنين...             699   \n",
              "...                                                  ...             ...   \n",
              "31025   الرياض 26 شوال 1436 هـ الموافق 11 اغسطس 2015 ...            1958   \n",
              "31026   جدة 26 شوال 1436 هـ الموافق 11 أغسطس 2015 م و...            1829   \n",
              "31027   الرياض 26 شوال 1436 هـ الموافق 11 أغسطس 2015 ...             818   \n",
              "31028   الرياض 26 شوال 1436 هـ الموافق 11 أغسطس 2015 ...             428   \n",
              "31029   إسلام آباد 26 شوال 1436 هـ الموافق 11 اغسطس 2...             376   \n",
              "\n",
              "       title_length  year  month      category  \n",
              "0                70  2015      7        سيارات  \n",
              "1                40  2015      7         ترفيه  \n",
              "2                67  2015      7  الشرق الأوسط  \n",
              "3                49  2015      7        سيارات  \n",
              "4                54  2015      7       تلفزيون  \n",
              "...             ...   ...    ...           ...  \n",
              "31025            69  2015      8         ترفيه  \n",
              "31026            69  2015      8        سيارات  \n",
              "31027            82  2015      8         أخبار  \n",
              "31028            50  2015      8         ترفيه  \n",
              "31029            56  2015      8      غير مصنف  \n",
              "\n",
              "[31030 rows x 11 columns]"
            ],
            "text/html": [
              "\n",
              "  <div id=\"df-ac39aae2-5e0f-4753-a973-98b8953d4db1\" class=\"colab-df-container\">\n",
              "    <div>\n",
              "<style scoped>\n",
              "    .dataframe tbody tr th:only-of-type {\n",
              "        vertical-align: middle;\n",
              "    }\n",
              "\n",
              "    .dataframe tbody tr th {\n",
              "        vertical-align: top;\n",
              "    }\n",
              "\n",
              "    .dataframe thead th {\n",
              "        text-align: right;\n",
              "    }\n",
              "</style>\n",
              "<table border=\"1\" class=\"dataframe\">\n",
              "  <thead>\n",
              "    <tr style=\"text-align: right;\">\n",
              "      <th></th>\n",
              "      <th>source</th>\n",
              "      <th>url</th>\n",
              "      <th>date_extracted</th>\n",
              "      <th>title</th>\n",
              "      <th>author</th>\n",
              "      <th>content</th>\n",
              "      <th>content_length</th>\n",
              "      <th>title_length</th>\n",
              "      <th>year</th>\n",
              "      <th>month</th>\n",
              "      <th>category</th>\n",
              "    </tr>\n",
              "  </thead>\n",
              "  <tbody>\n",
              "    <tr>\n",
              "      <th>0</th>\n",
              "      <td>aawsat</td>\n",
              "      <td>http://aawsat.com/home/article/410826/بريطانيا...</td>\n",
              "      <td>2015-07-21 02:51:32</td>\n",
              "      <td>بريطانيا: أربعة محاور لاستراتيجية جديدة تتصدى ...</td>\n",
              "      <td>لندن: رنيم حنوش</td>\n",
              "      <td>حدد رئيس الوزراء البريطاني ديفيد كاميرون، اليو...</td>\n",
              "      <td>2555</td>\n",
              "      <td>70</td>\n",
              "      <td>2015</td>\n",
              "      <td>7</td>\n",
              "      <td>سيارات</td>\n",
              "    </tr>\n",
              "    <tr>\n",
              "      <th>1</th>\n",
              "      <td>aawsat</td>\n",
              "      <td>http://aawsat.com/home/article/410801/الرئيس-ه...</td>\n",
              "      <td>2015-07-21 02:51:33</td>\n",
              "      <td>الرئيس هادي يعين نايف البكري محافظا لعدن</td>\n",
              "      <td>لندن: «الشرق الأوسط أونلاين»</td>\n",
              "      <td>أصدر الرئيس عبدربه منصور هادي رئيس الجمهورية ا...</td>\n",
              "      <td>1204</td>\n",
              "      <td>40</td>\n",
              "      <td>2015</td>\n",
              "      <td>7</td>\n",
              "      <td>ترفيه</td>\n",
              "    </tr>\n",
              "    <tr>\n",
              "      <th>2</th>\n",
              "      <td>aawsat</td>\n",
              "      <td>http://aawsat.com/home/article/410796/مجلس-الأ...</td>\n",
              "      <td>2015-07-21 02:51:35</td>\n",
              "      <td>مجلس الأمن يصادق على «الاتفاق النووي».. وإيران...</td>\n",
              "      <td>لندن: «الشرق الأوسط  أونلاين»</td>\n",
              "      <td>وافق مجلس الأمن الدولي، اليوم (الاثنين)، على ا...</td>\n",
              "      <td>698</td>\n",
              "      <td>67</td>\n",
              "      <td>2015</td>\n",
              "      <td>7</td>\n",
              "      <td>الشرق الأوسط</td>\n",
              "    </tr>\n",
              "    <tr>\n",
              "      <th>3</th>\n",
              "      <td>aawsat</td>\n",
              "      <td>http://aawsat.com/home/article/410771/«نيران-ص...</td>\n",
              "      <td>2015-07-21 02:51:37</td>\n",
              "      <td>«نيران صديقة» أميركية تودي بحياة 14 جنديا أفغانيا</td>\n",
              "      <td>لندن: «الشرق الأوسط أونلاين»</td>\n",
              "      <td>قال مسؤولون أفغان ان 14 جنديا أفغانيا قتلوا في...</td>\n",
              "      <td>1529</td>\n",
              "      <td>49</td>\n",
              "      <td>2015</td>\n",
              "      <td>7</td>\n",
              "      <td>سيارات</td>\n",
              "    </tr>\n",
              "    <tr>\n",
              "      <th>4</th>\n",
              "      <td>aawsat</td>\n",
              "      <td>http://aawsat.com/home/article/410751/الخارجية...</td>\n",
              "      <td>2015-07-21 02:51:38</td>\n",
              "      <td>الخارجية الإيطالية: أربعة من مواطنينا مخطوفون ...</td>\n",
              "      <td>لندن: «الشرق الأوسط أونلاين»</td>\n",
              "      <td>أعلنت وزارة الخارجية الايطالية، اليوم (الاثنين...</td>\n",
              "      <td>699</td>\n",
              "      <td>54</td>\n",
              "      <td>2015</td>\n",
              "      <td>7</td>\n",
              "      <td>تلفزيون</td>\n",
              "    </tr>\n",
              "    <tr>\n",
              "      <th>...</th>\n",
              "      <td>...</td>\n",
              "      <td>...</td>\n",
              "      <td>...</td>\n",
              "      <td>...</td>\n",
              "      <td>...</td>\n",
              "      <td>...</td>\n",
              "      <td>...</td>\n",
              "      <td>...</td>\n",
              "      <td>...</td>\n",
              "      <td>...</td>\n",
              "      <td>...</td>\n",
              "    </tr>\n",
              "    <tr>\n",
              "      <th>31025</th>\n",
              "      <td>was</td>\n",
              "      <td>http://www.spa.gov.sa/details.php?id=1387081</td>\n",
              "      <td>2015-08-11 18:51:24</td>\n",
              "      <td>عام / وزير الشؤون البلدية يوجه بإنشاء مكاتب لإ...</td>\n",
              "      <td>NaN</td>\n",
              "      <td>الرياض 26 شوال 1436 هـ الموافق 11 اغسطس 2015 ...</td>\n",
              "      <td>1958</td>\n",
              "      <td>69</td>\n",
              "      <td>2015</td>\n",
              "      <td>8</td>\n",
              "      <td>ترفيه</td>\n",
              "    </tr>\n",
              "    <tr>\n",
              "      <th>31026</th>\n",
              "      <td>was</td>\n",
              "      <td>http://www.spa.gov.sa/details.php?id=1387080</td>\n",
              "      <td>2015-08-11 18:51:25</td>\n",
              "      <td>عام / هيئة الإغاثة تصف أوضاع اللاجئين الهاربين...</td>\n",
              "      <td>NaN</td>\n",
              "      <td>جدة 26 شوال 1436 هـ الموافق 11 أغسطس 2015 م و...</td>\n",
              "      <td>1829</td>\n",
              "      <td>69</td>\n",
              "      <td>2015</td>\n",
              "      <td>8</td>\n",
              "      <td>سيارات</td>\n",
              "    </tr>\n",
              "    <tr>\n",
              "      <th>31027</th>\n",
              "      <td>was</td>\n",
              "      <td>http://www.spa.gov.sa/details.php?id=1387079</td>\n",
              "      <td>2015-08-11 18:51:26</td>\n",
              "      <td>عام / المشرف العام على مركز الملك سلمان للإغاث...</td>\n",
              "      <td>NaN</td>\n",
              "      <td>الرياض 26 شوال 1436 هـ الموافق 11 أغسطس 2015 ...</td>\n",
              "      <td>818</td>\n",
              "      <td>82</td>\n",
              "      <td>2015</td>\n",
              "      <td>8</td>\n",
              "      <td>أخبار</td>\n",
              "    </tr>\n",
              "    <tr>\n",
              "      <th>31028</th>\n",
              "      <td>was</td>\n",
              "      <td>http://www.spa.gov.sa/details.php?id=1387078</td>\n",
              "      <td>2015-08-11 18:51:32</td>\n",
              "      <td>رياضي / أخضر الطائرة في مواجهة مرتقبة أمام الج...</td>\n",
              "      <td>NaN</td>\n",
              "      <td>الرياض 26 شوال 1436 هـ الموافق 11 أغسطس 2015 ...</td>\n",
              "      <td>428</td>\n",
              "      <td>50</td>\n",
              "      <td>2015</td>\n",
              "      <td>8</td>\n",
              "      <td>ترفيه</td>\n",
              "    </tr>\n",
              "    <tr>\n",
              "      <th>31029</th>\n",
              "      <td>was</td>\n",
              "      <td>http://www.spa.gov.sa/details.php?id=1387077</td>\n",
              "      <td>2015-08-11 18:51:33</td>\n",
              "      <td>اقتصادي / الأسهم الباكستانية تغلق على ارتفاع ب...</td>\n",
              "      <td>NaN</td>\n",
              "      <td>إسلام آباد 26 شوال 1436 هـ الموافق 11 اغسطس 2...</td>\n",
              "      <td>376</td>\n",
              "      <td>56</td>\n",
              "      <td>2015</td>\n",
              "      <td>8</td>\n",
              "      <td>غير مصنف</td>\n",
              "    </tr>\n",
              "  </tbody>\n",
              "</table>\n",
              "<p>31030 rows × 11 columns</p>\n",
              "</div>\n",
              "    <div class=\"colab-df-buttons\">\n",
              "\n",
              "  <div class=\"colab-df-container\">\n",
              "    <button class=\"colab-df-convert\" onclick=\"convertToInteractive('df-ac39aae2-5e0f-4753-a973-98b8953d4db1')\"\n",
              "            title=\"Convert this dataframe to an interactive table.\"\n",
              "            style=\"display:none;\">\n",
              "\n",
              "  <svg xmlns=\"http://www.w3.org/2000/svg\" height=\"24px\" viewBox=\"0 -960 960 960\">\n",
              "    <path d=\"M120-120v-720h720v720H120Zm60-500h600v-160H180v160Zm220 220h160v-160H400v160Zm0 220h160v-160H400v160ZM180-400h160v-160H180v160Zm440 0h160v-160H620v160ZM180-180h160v-160H180v160Zm440 0h160v-160H620v160Z\"/>\n",
              "  </svg>\n",
              "    </button>\n",
              "\n",
              "  <style>\n",
              "    .colab-df-container {\n",
              "      display:flex;\n",
              "      gap: 12px;\n",
              "    }\n",
              "\n",
              "    .colab-df-convert {\n",
              "      background-color: #E8F0FE;\n",
              "      border: none;\n",
              "      border-radius: 50%;\n",
              "      cursor: pointer;\n",
              "      display: none;\n",
              "      fill: #1967D2;\n",
              "      height: 32px;\n",
              "      padding: 0 0 0 0;\n",
              "      width: 32px;\n",
              "    }\n",
              "\n",
              "    .colab-df-convert:hover {\n",
              "      background-color: #E2EBFA;\n",
              "      box-shadow: 0px 1px 2px rgba(60, 64, 67, 0.3), 0px 1px 3px 1px rgba(60, 64, 67, 0.15);\n",
              "      fill: #174EA6;\n",
              "    }\n",
              "\n",
              "    .colab-df-buttons div {\n",
              "      margin-bottom: 4px;\n",
              "    }\n",
              "\n",
              "    [theme=dark] .colab-df-convert {\n",
              "      background-color: #3B4455;\n",
              "      fill: #D2E3FC;\n",
              "    }\n",
              "\n",
              "    [theme=dark] .colab-df-convert:hover {\n",
              "      background-color: #434B5C;\n",
              "      box-shadow: 0px 1px 3px 1px rgba(0, 0, 0, 0.15);\n",
              "      filter: drop-shadow(0px 1px 2px rgba(0, 0, 0, 0.3));\n",
              "      fill: #FFFFFF;\n",
              "    }\n",
              "  </style>\n",
              "\n",
              "    <script>\n",
              "      const buttonEl =\n",
              "        document.querySelector('#df-ac39aae2-5e0f-4753-a973-98b8953d4db1 button.colab-df-convert');\n",
              "      buttonEl.style.display =\n",
              "        google.colab.kernel.accessAllowed ? 'block' : 'none';\n",
              "\n",
              "      async function convertToInteractive(key) {\n",
              "        const element = document.querySelector('#df-ac39aae2-5e0f-4753-a973-98b8953d4db1');\n",
              "        const dataTable =\n",
              "          await google.colab.kernel.invokeFunction('convertToInteractive',\n",
              "                                                    [key], {});\n",
              "        if (!dataTable) return;\n",
              "\n",
              "        const docLinkHtml = 'Like what you see? Visit the ' +\n",
              "          '<a target=\"_blank\" href=https://colab.research.google.com/notebooks/data_table.ipynb>data table notebook</a>'\n",
              "          + ' to learn more about interactive tables.';\n",
              "        element.innerHTML = '';\n",
              "        dataTable['output_type'] = 'display_data';\n",
              "        await google.colab.output.renderOutput(dataTable, element);\n",
              "        const docLink = document.createElement('div');\n",
              "        docLink.innerHTML = docLinkHtml;\n",
              "        element.appendChild(docLink);\n",
              "      }\n",
              "    </script>\n",
              "  </div>\n",
              "\n",
              "\n",
              "<div id=\"df-3410b6a6-6248-4872-b3fa-c5a47ae65e5d\">\n",
              "  <button class=\"colab-df-quickchart\" onclick=\"quickchart('df-3410b6a6-6248-4872-b3fa-c5a47ae65e5d')\"\n",
              "            title=\"Suggest charts\"\n",
              "            style=\"display:none;\">\n",
              "\n",
              "<svg xmlns=\"http://www.w3.org/2000/svg\" height=\"24px\"viewBox=\"0 0 24 24\"\n",
              "     width=\"24px\">\n",
              "    <g>\n",
              "        <path d=\"M19 3H5c-1.1 0-2 .9-2 2v14c0 1.1.9 2 2 2h14c1.1 0 2-.9 2-2V5c0-1.1-.9-2-2-2zM9 17H7v-7h2v7zm4 0h-2V7h2v10zm4 0h-2v-4h2v4z\"/>\n",
              "    </g>\n",
              "</svg>\n",
              "  </button>\n",
              "\n",
              "<style>\n",
              "  .colab-df-quickchart {\n",
              "      --bg-color: #E8F0FE;\n",
              "      --fill-color: #1967D2;\n",
              "      --hover-bg-color: #E2EBFA;\n",
              "      --hover-fill-color: #174EA6;\n",
              "      --disabled-fill-color: #AAA;\n",
              "      --disabled-bg-color: #DDD;\n",
              "  }\n",
              "\n",
              "  [theme=dark] .colab-df-quickchart {\n",
              "      --bg-color: #3B4455;\n",
              "      --fill-color: #D2E3FC;\n",
              "      --hover-bg-color: #434B5C;\n",
              "      --hover-fill-color: #FFFFFF;\n",
              "      --disabled-bg-color: #3B4455;\n",
              "      --disabled-fill-color: #666;\n",
              "  }\n",
              "\n",
              "  .colab-df-quickchart {\n",
              "    background-color: var(--bg-color);\n",
              "    border: none;\n",
              "    border-radius: 50%;\n",
              "    cursor: pointer;\n",
              "    display: none;\n",
              "    fill: var(--fill-color);\n",
              "    height: 32px;\n",
              "    padding: 0;\n",
              "    width: 32px;\n",
              "  }\n",
              "\n",
              "  .colab-df-quickchart:hover {\n",
              "    background-color: var(--hover-bg-color);\n",
              "    box-shadow: 0 1px 2px rgba(60, 64, 67, 0.3), 0 1px 3px 1px rgba(60, 64, 67, 0.15);\n",
              "    fill: var(--button-hover-fill-color);\n",
              "  }\n",
              "\n",
              "  .colab-df-quickchart-complete:disabled,\n",
              "  .colab-df-quickchart-complete:disabled:hover {\n",
              "    background-color: var(--disabled-bg-color);\n",
              "    fill: var(--disabled-fill-color);\n",
              "    box-shadow: none;\n",
              "  }\n",
              "\n",
              "  .colab-df-spinner {\n",
              "    border: 2px solid var(--fill-color);\n",
              "    border-color: transparent;\n",
              "    border-bottom-color: var(--fill-color);\n",
              "    animation:\n",
              "      spin 1s steps(1) infinite;\n",
              "  }\n",
              "\n",
              "  @keyframes spin {\n",
              "    0% {\n",
              "      border-color: transparent;\n",
              "      border-bottom-color: var(--fill-color);\n",
              "      border-left-color: var(--fill-color);\n",
              "    }\n",
              "    20% {\n",
              "      border-color: transparent;\n",
              "      border-left-color: var(--fill-color);\n",
              "      border-top-color: var(--fill-color);\n",
              "    }\n",
              "    30% {\n",
              "      border-color: transparent;\n",
              "      border-left-color: var(--fill-color);\n",
              "      border-top-color: var(--fill-color);\n",
              "      border-right-color: var(--fill-color);\n",
              "    }\n",
              "    40% {\n",
              "      border-color: transparent;\n",
              "      border-right-color: var(--fill-color);\n",
              "      border-top-color: var(--fill-color);\n",
              "    }\n",
              "    60% {\n",
              "      border-color: transparent;\n",
              "      border-right-color: var(--fill-color);\n",
              "    }\n",
              "    80% {\n",
              "      border-color: transparent;\n",
              "      border-right-color: var(--fill-color);\n",
              "      border-bottom-color: var(--fill-color);\n",
              "    }\n",
              "    90% {\n",
              "      border-color: transparent;\n",
              "      border-bottom-color: var(--fill-color);\n",
              "    }\n",
              "  }\n",
              "</style>\n",
              "\n",
              "  <script>\n",
              "    async function quickchart(key) {\n",
              "      const quickchartButtonEl =\n",
              "        document.querySelector('#' + key + ' button');\n",
              "      quickchartButtonEl.disabled = true;  // To prevent multiple clicks.\n",
              "      quickchartButtonEl.classList.add('colab-df-spinner');\n",
              "      try {\n",
              "        const charts = await google.colab.kernel.invokeFunction(\n",
              "            'suggestCharts', [key], {});\n",
              "      } catch (error) {\n",
              "        console.error('Error during call to suggestCharts:', error);\n",
              "      }\n",
              "      quickchartButtonEl.classList.remove('colab-df-spinner');\n",
              "      quickchartButtonEl.classList.add('colab-df-quickchart-complete');\n",
              "    }\n",
              "    (() => {\n",
              "      let quickchartButtonEl =\n",
              "        document.querySelector('#df-3410b6a6-6248-4872-b3fa-c5a47ae65e5d button');\n",
              "      quickchartButtonEl.style.display =\n",
              "        google.colab.kernel.accessAllowed ? 'block' : 'none';\n",
              "    })();\n",
              "  </script>\n",
              "</div>\n",
              "\n",
              "  <div id=\"id_6ac112cf-9b5b-40f8-8754-f6ec01b0d98b\">\n",
              "    <style>\n",
              "      .colab-df-generate {\n",
              "        background-color: #E8F0FE;\n",
              "        border: none;\n",
              "        border-radius: 50%;\n",
              "        cursor: pointer;\n",
              "        display: none;\n",
              "        fill: #1967D2;\n",
              "        height: 32px;\n",
              "        padding: 0 0 0 0;\n",
              "        width: 32px;\n",
              "      }\n",
              "\n",
              "      .colab-df-generate:hover {\n",
              "        background-color: #E2EBFA;\n",
              "        box-shadow: 0px 1px 2px rgba(60, 64, 67, 0.3), 0px 1px 3px 1px rgba(60, 64, 67, 0.15);\n",
              "        fill: #174EA6;\n",
              "      }\n",
              "\n",
              "      [theme=dark] .colab-df-generate {\n",
              "        background-color: #3B4455;\n",
              "        fill: #D2E3FC;\n",
              "      }\n",
              "\n",
              "      [theme=dark] .colab-df-generate:hover {\n",
              "        background-color: #434B5C;\n",
              "        box-shadow: 0px 1px 3px 1px rgba(0, 0, 0, 0.15);\n",
              "        filter: drop-shadow(0px 1px 2px rgba(0, 0, 0, 0.3));\n",
              "        fill: #FFFFFF;\n",
              "      }\n",
              "    </style>\n",
              "    <button class=\"colab-df-generate\" onclick=\"generateWithVariable('df')\"\n",
              "            title=\"Generate code using this dataframe.\"\n",
              "            style=\"display:none;\">\n",
              "\n",
              "  <svg xmlns=\"http://www.w3.org/2000/svg\" height=\"24px\"viewBox=\"0 0 24 24\"\n",
              "       width=\"24px\">\n",
              "    <path d=\"M7,19H8.4L18.45,9,17,7.55,7,17.6ZM5,21V16.75L18.45,3.32a2,2,0,0,1,2.83,0l1.4,1.43a1.91,1.91,0,0,1,.58,1.4,1.91,1.91,0,0,1-.58,1.4L9.25,21ZM18.45,9,17,7.55Zm-12,3A5.31,5.31,0,0,0,4.9,8.1,5.31,5.31,0,0,0,1,6.5,5.31,5.31,0,0,0,4.9,4.9,5.31,5.31,0,0,0,6.5,1,5.31,5.31,0,0,0,8.1,4.9,5.31,5.31,0,0,0,12,6.5,5.46,5.46,0,0,0,6.5,12Z\"/>\n",
              "  </svg>\n",
              "    </button>\n",
              "    <script>\n",
              "      (() => {\n",
              "      const buttonEl =\n",
              "        document.querySelector('#id_6ac112cf-9b5b-40f8-8754-f6ec01b0d98b button.colab-df-generate');\n",
              "      buttonEl.style.display =\n",
              "        google.colab.kernel.accessAllowed ? 'block' : 'none';\n",
              "\n",
              "      buttonEl.onclick = () => {\n",
              "        google.colab.notebook.generateWithVariable('df');\n",
              "      }\n",
              "      })();\n",
              "    </script>\n",
              "  </div>\n",
              "\n",
              "    </div>\n",
              "  </div>\n"
            ],
            "application/vnd.google.colaboratory.intrinsic+json": {
              "type": "dataframe",
              "variable_name": "df",
              "summary": "{\n  \"name\": \"df\",\n  \"rows\": 31030,\n  \"fields\": [\n    {\n      \"column\": \"source\",\n      \"properties\": {\n        \"dtype\": \"category\",\n        \"num_unique_values\": 14,\n        \"samples\": [\n          \"okaz\",\n          \"3alyoum\",\n          \"aawsat\"\n        ],\n        \"semantic_type\": \"\",\n        \"description\": \"\"\n      }\n    },\n    {\n      \"column\": \"url\",\n      \"properties\": {\n        \"dtype\": \"string\",\n        \"num_unique_values\": 31030,\n        \"samples\": [\n          \"http://sabq.org/6gDgde\",\n          \"http://www.al-madina.com/node/623607/\\u0648\\u0632\\u064a\\u0631-\\u0627\\u0644\\u0639\\u062f\\u0644-\\u0627\\u0644\\u0644\\u0628\\u0646\\u0627\\u0646\\u064a-\\u0639\\u0648\\u0646-\\u063a\\u0637\\u0627\\u0621-\\u0644\\u0645\\u0634\\u0631\\u0648\\u0639-\\u062d\\u0632\\u0628-\\u0627\\u0644\\u0644\\u0647-\\u0648\\u0625\\u064a\\u0631\\u0627\\u0646-\\u0641\\u064a-\\u0628\\u0644\\u0627\\u062f\\u0646\\u0627.html?weekly\",\n          \"http://www.alriyadh.com/1070708\"\n        ],\n        \"semantic_type\": \"\",\n        \"description\": \"\"\n      }\n    },\n    {\n      \"column\": \"date_extracted\",\n      \"properties\": {\n        \"dtype\": \"date\",\n        \"min\": \"2015-07-21 02:16:13\",\n        \"max\": \"2015-08-11 18:51:33\",\n        \"num_unique_values\": 28265,\n        \"samples\": [\n          \"2015-08-09 17:29:46\",\n          \"2015-08-04 18:21:39\",\n          \"2015-08-02 23:09:00\"\n        ],\n        \"semantic_type\": \"\",\n        \"description\": \"\"\n      }\n    },\n    {\n      \"column\": \"title\",\n      \"properties\": {\n        \"dtype\": \"string\",\n        \"num_unique_values\": 29462,\n        \"samples\": [\n          \"\\u0648\\u062c\\u0648\\u0647\",\n          \"\\u062a\\u0648\\u062d\\u064a\\u062f \\u0627\\u0644\\u0645\\u0633\\u0627\\u0631\\u0627\\u062a \\u0627\\u0644\\u0645\\u0632\\u062f\\u0648\\u062c\\u0629 \\u062f\\u0627\\u062e\\u0644 \\u0627\\u0644\\u0645\\u062f\\u0646 \\u0644\\u0625\\u0646\\u0647\\u0627\\u0621 \\u0627\\u0644\\u0627\\u062e\\u062a\\u0646\\u0627\\u0642\\u0627\\u062a\",\n          \"\\u0623\\u0645\\u0631 \\u0645\\u0644\\u0643\\u064a \\u0628\\u0625\\u0646\\u0627\\u0628\\u0629 \\u0633\\u0645\\u0648 \\u0648\\u0644\\u064a \\u0627\\u0644\\u0639\\u0647\\u062f \\u0641\\u064a \\u0625\\u062f\\u0627\\u0631\\u0629 \\u0634\\u0624\\u0648\\u0646 \\u0627\\u0644\\u062f\\u0648\\u0644\\u0629\"\n        ],\n        \"semantic_type\": \"\",\n        \"description\": \"\"\n      }\n    },\n    {\n      \"column\": \"author\",\n      \"properties\": {\n        \"dtype\": \"category\",\n        \"num_unique_values\": 8252,\n        \"samples\": [\n          \"\\u0623 \\u0641 \\u0628 - \\u0627\\u0644\\u0642\\u0627\\u0647\\u0631\\u0629\",\n          \"\\u00a0\\u0646\\u0635\\u064a\\u0631 \\u0627\\u0644\\u0645\\u063a\\u0627\\u0645\\u0633\\u064a (\\u0647\\u0627\\u062a\\u0641\\u064a\\u0627 \\u0640\\u0640 \\u062c\\u062f\\u0629)\",\n          \"\\u0632\\u064a\\u0648\\u0631\\u064a\\u062e -\\u0627\\u0644\\u0648\\u0626\\u0627\\u0645:\"\n        ],\n        \"semantic_type\": \"\",\n        \"description\": \"\"\n      }\n    },\n    {\n      \"column\": \"content\",\n      \"properties\": {\n        \"dtype\": \"string\",\n        \"num_unique_values\": 30133,\n        \"samples\": [\n          \" \\u062f\\u0623\\u0628\\u062a \\u0627\\u0644\\u0623\\u0646\\u062f\\u064a\\u0629 \\u0627\\u0644\\u0633\\u0639\\u0648\\u062f\\u064a\\u0629 \\u0639\\u0644\\u0649 \\u062c\\u0644\\u0628 \\u0627\\u0644\\u0644\\u0627\\u0639\\u0628\\u064a\\u0646 \\u063a\\u064a\\u0631 \\u0627\\u0644\\u0633\\u0639\\u0648\\u062f\\u064a\\u064a\\u0646 \\u0645\\u0646\\u0630 \\u0639\\u062f\\u0629 \\u0639\\u0642\\u0648\\u062f \\u0644\\u0644\\u0645\\u0634\\u0627\\u0631\\u0643\\u0629 \\u0636\\u0645\\u0646 \\u0627\\u0644\\u062f\\u0648\\u0631\\u064a \\u0627\\u0644\\u0633\\u0639\\u0648\\u062f\\u064a \\u0648\\u0641\\u0642 \\u0644\\u0627\\u0626\\u062d\\u0629 \\u0648\\u0636\\u0648\\u0627\\u0628\\u0637 \\u0645\\u0639\\u064a\\u0646\\u0629. \\u0648\\u064a\\u0641\\u0648\\u0642 \\u0639\\u062f\\u062f \\u0647\\u0624\\u0644\\u0627\\u0621 \\u0627\\u0644\\u0644\\u0627\\u0639\\u0628\\u064a\\u0646 \\u0627\\u0644\\u062e\\u0645\\u0633\\u064a\\u0646\\u060c \\u0648\\u0631\\u0628\\u0645\\u0627 \\u062a\\u0644\\u063a\\u0649 \\u0639\\u0642\\u0648\\u062f \\u0623\\u0639\\u062f\\u0627\\u062f \\u0643\\u0628\\u064a\\u0631\\u0629 \\u0645\\u0646\\u0647\\u0645 \\u0633\\u0646\\u0648\\u064a\\u0627 \\u0644\\u064a\\u0623\\u062a\\u064a \\u063a\\u064a\\u0631\\u0647\\u0645 \\u0648\\u0647\\u0643\\u0630\\u0627.\\n\\u0648\\u0642\\u062f \\u0648\\u0635\\u0644 \\u0627\\u0644\\u0625\\u0646\\u0641\\u0627\\u0642 \\u0639\\u0644\\u0649 \\u0647\\u0624\\u0644\\u0627\\u0621 \\u0627\\u0644\\u0644\\u0627\\u0639\\u0628\\u064a\\u0646 \\u0641\\u064a \\u0627\\u0644\\u0648\\u0642\\u062a \\u0627\\u0644\\u062d\\u0627\\u0636\\u0631 \\u0645\\u0626\\u0627\\u062a \\u0627\\u0644\\u0645\\u0644\\u0627\\u064a\\u064a\\u0646 \\u0628\\u0639\\u062f \\u0623\\u0646 \\u0643\\u0627\\u0646\\u062a \\u0644\\u0627 \\u062a\\u062a\\u0639\\u062f\\u0649 \\u0639\\u0634\\u0631\\u0627\\u062a \\u0627\\u0644\\u0645\\u0644\\u0627\\u064a\\u064a\\u0646 \\u0648\\u0647\\u064a \\u0641\\u064a \\u062a\\u0635\\u0627\\u0639\\u062f \\u0645\\u0633\\u062a\\u0645\\u0631.\\n\\u0648\\u0645\\u0646\\u0647\\u0645 \\u0645\\u0646 \\u0628\\u0631\\u0632 \\u0648\\u0633\\u0627\\u0647\\u0645 \\u0641\\u064a \\u0627\\u0646\\u062a\\u0635\\u0627\\u0631\\u0627\\u062a \\u0648\\u0628\\u0637\\u0648\\u0644\\u0627\\u062a \\u062b\\u0645 \\u062a\\u0645 \\u062a\\u063a\\u064a\\u064a\\u0631\\u0647\\u0645 \\u0628\\u062d\\u062c\\u0629 \\u062c\\u0644\\u0628 \\u0627\\u0644\\u0623\\u0641\\u0636\\u0644\\u060c \\u0644\\u0643\\u0646 \\u0645\\u0646 \\u062d\\u0636\\u0631 \\u0628\\u0639\\u062f\\u0647\\u0645 \\u0644\\u0645 \\u064a\\u0642\\u062f\\u0645 \\u0646\\u0635\\u0641 \\u0645\\u0627 \\u0642\\u062f\\u0645\\u0648\\u0627 \\u0641\\u064a \\u0643\\u062b\\u064a\\u0631 \\u0645\\u0646 \\u0627\\u0644\\u0623\\u062d\\u064a\\u0627\\u0646!.\\n\\u0648\\u0645\\u0646\\u0647\\u0645 \\u0645\\u0646 \\u062a\\u0645 \\u062a\\u0633\\u0631\\u064a\\u062d\\u0647\\u0645 \\u0628\\u062d\\u062c\\u0629 \\u0623\\u0646\\u0647\\u0645 \\u0623\\u0642\\u0644 \\u0645\\u0646 \\u0627\\u0644\\u0637\\u0645\\u0648\\u062d\\u0627\\u062a \\u0648\\u0644\\u0644\\u0631\\u063a\\u0628\\u0629 \\u0641\\u064a \\u0627\\u0644\\u0623\\u0641\\u0636\\u0644\\u060c \\u062b\\u0645 \\u0648\\u062c\\u062f\\u0646\\u0627\\u0647\\u0645 \\u064a\\u0645\\u062b\\u0644\\u0648\\u0646 \\u0623\\u0631\\u0642\\u0649 \\u0627\\u0644\\u0641\\u0631\\u0642 \\u0627\\u0644\\u0639\\u0627\\u0644\\u0645\\u064a\\u0629 \\u0628\\u0644 \\u0648\\u0641\\u064a \\u0627\\u0644\\u0645\\u0646\\u062a\\u062e\\u0628\\u0627\\u062a \\u0627\\u0644\\u0639\\u0627\\u0644\\u0645\\u064a\\u0629 \\u0627\\u0644\\u0643\\u0628\\u0631\\u0649 \\u0648\\u0627\\u0644\\u062a\\u064a \\u062a\\u0641\\u0648\\u0642\\u0646\\u0627 \\u0628\\u0645\\u0631\\u0627\\u062d\\u0644\\u060c \\u0641\\u0645\\u0627 \\u0645\\u0639\\u0646\\u0649 \\u0630\\u0644\\u0643\\u061f.\\n\\u0648\\u0645\\u0646\\u0647\\u0645 \\u0645\\u0646 \\u0643\\u0627\\u0646 \\u0645\\u062a\\u0648\\u0633\\u0637 \\u0627\\u0644\\u0645\\u0633\\u062a\\u0648\\u0649 \\u0648\\u0627\\u0644\\u0634\\u0647\\u0631\\u0629 \\u0648\\u0641\\u064a \\u062d\\u062f\\u0648\\u062f \\u0625\\u0645\\u0643\\u0627\\u0646\\u0627\\u062a \\u0623\\u0646\\u062f\\u064a\\u062a\\u0646\\u0627\\u060c \\u0625\\u0644\\u0627 \\u0623\\u0646 \\u0627\\u0646\\u0633\\u062c\\u0627\\u0645\\u0647\\u0645 \\u0645\\u0639 \\u0627\\u0644\\u0641\\u0631\\u064a\\u0642 \\u0648\\u062a\\u063a\\u0637\\u064a\\u062a\\u0647\\u0645 \\u0644\\u0628\\u0639\\u0636 \\u0627\\u0644\\u0639\\u062c\\u0632 \\u0634\\u0643\\u0644 \\u0646\\u062c\\u0627\\u062d\\u0627 \\u0643\\u0628\\u064a\\u0631\\u0627 \\u0648\\u0628\\u0639\\u0636\\u0647\\u0645 \\u062d\\u0642\\u0642 \\u0628\\u0637\\u0648\\u0644\\u0627\\u062a\\u060c \\u0648\\u0645\\u0639 \\u0630\\u0644\\u0643 \\u062a\\u0645 \\u062a\\u063a\\u064a\\u064a\\u0631\\u0647\\u0645 \\u0623\\u064a\\u0636\\u0627 \\u0628\\u062d\\u062c\\u0629 \\u0627\\u0644\\u0631\\u063a\\u0628\\u0629 \\u0641\\u064a \\u0627\\u0644\\u0623\\u0641\\u0636\\u0644\\u060c \\u0648\\u0645\\u0646 \\u062c\\u0627\\u0621 \\u0628\\u0639\\u062f\\u0647\\u0645 \\u0643\\u0627\\u0646\\u0648\\u0627 \\u0623\\u0633\\u0648\\u0623 \\u0645\\u0633\\u062a\\u0648\\u0649 \\u0648\\u0623\\u0642\\u0644 \\u0627\\u0646\\u0633\\u062c\\u0627\\u0645\\u0627 \\u0648\\u0623\\u0643\\u062b\\u0631 \\u062a\\u0643\\u0644\\u0641\\u0629\\u060c \\u0641\\u0644\\u0645\\u0627\\u0630\\u0627\\u061f.\\n\\u0641\\u064a \\u0643\\u0644 \\u062a\\u063a\\u064a\\u064a\\u0631 \\u064a\\u062e\\u0633\\u0631 \\u0627\\u0644\\u0646\\u0627\\u062f\\u064a \\u0645\\u0627\\u062f\\u064a\\u0627 \\u0645\\u0646 \\u0631\\u0648\\u0627\\u062a\\u0628 \\u0628\\u0627\\u0642\\u064a \\u0627\\u0644\\u0645\\u062f\\u0629 \\u0648\\u063a\\u0631\\u0627\\u0645\\u0629 \\u0641\\u0633\\u062e \\u0627\\u0644\\u0639\\u0642\\u062f \\u0643\\u0645\\u0627 \\u064a\\u062a\\u0643\\u0644\\u0641 \\u0645\\u0642\\u062f\\u0645\\u0627\\u062a \\u0639\\u0642\\u0648\\u062f \\u062c\\u062f\\u064a\\u062f\\u0629 \\u0648\\u062a\\u0630\\u0627\\u0643\\u0631 \\u0637\\u064a\\u0631\\u0627\\u0646 \\u0648\\u0643\\u0634\\u0648\\u0641\\u0627\\u062a \\u0637\\u0628\\u064a\\u0629 \\u0645\\u0639 \\u0645\\u0646 \\u064a\\u0623\\u062a\\u064a \\u0628\\u0639\\u062f\\u0647\\u0645\\u060c \\u0648\\u0631\\u0628\\u0645\\u0627 \\u064a\\u062a\\u0636\\u0631\\u0631 \\u0623\\u064a\\u0636\\u0627 \\u0627\\u0644\\u0646\\u0627\\u062f\\u064a \\u0641\\u064a \\u0645\\u0648\\u0636\\u0648\\u0639 \\u0627\\u0644\\u0633\\u064a\\u0627\\u0631\\u0629 \\u0648\\u0627\\u0644\\u0633\\u0643\\u0646 \\u0648\\u0623\\u0645\\u0648\\u0631 \\u063a\\u064a\\u0631 \\u0630\\u0644\\u0643.\\n\\u0648\\u0645\\u0627 \\u0646\\u0637\\u0644\\u0628\\u0647 \\u0639\\u0646\\u062f \\u0627\\u0644\\u062a\\u063a\\u064a\\u064a\\u0631 \\u0623\\u0646 \\u062a\\u0631\\u0627\\u0639\\u064a \\u0627\\u0644\\u0623\\u0646\\u062f\\u064a\\u0629 \\u0623\\u0645\\u0648\\u0631\\u0627 \\u0643\\u062b\\u064a\\u0631\\u0629 \\u0645\\u0646\\u0647\\u0627 \\u0627\\u0644\\u0641\\u0646\\u064a\\u0629 \\u0648\\u0627\\u0644\\u0645\\u0627\\u062f\\u064a\\u0629 \\u0648\\u0627\\u0644\\u0633\\u0644\\u0648\\u0643\\u064a\\u0629\\u060c \\u0648\\u0627\\u0633\\u062a\\u0639\\u062f\\u0627\\u062f \\u0627\\u0644\\u0644\\u0627\\u0639\\u0628 \\u0644\\u0644\\u062a\\u062c\\u0627\\u0646\\u0633 \\u0648\\u0627\\u0644\\u062a\\u0623\\u0642\\u0644\\u0645 \\u0645\\u0639 \\u0627\\u0644\\u0628\\u064a\\u0626\\u0629 \\u0627\\u0644\\u062c\\u062f\\u064a\\u062f\\u0629\\u060c \\u0648\\u062a\\u062d\\u062f\\u064a\\u062f \\u0627\\u0644\\u062f\\u0648\\u0631 \\u0627\\u0644\\u0630\\u064a \\u064a\\u0624\\u062f\\u064a \\u0625\\u0644\\u0649 \\u0625\\u0636\\u0627\\u0641\\u0629 \\u0644\\u0644\\u0641\\u0631\\u064a\\u0642 \\u0648\\u064a\\u063a\\u0637\\u064a \\u0627\\u0644\\u0639\\u062c\\u0632 \\u0627\\u0644\\u0645\\u0648\\u062c\\u0648\\u062f\\u060c \\u0648\\u0639\\u0644\\u064a\\u0646\\u0627 \\u0623\\u0644\\u0627 \\u0646\\u063a\\u0641\\u0644 \\u062f\\u0631\\u0627\\u0633\\u0629 \\u0648\\u0636\\u0639\\u0647 \\u0627\\u0644\\u0639\\u0627\\u0626\\u0644\\u064a\\u060c \\u0641\\u0643\\u0645 \\u0645\\u0646 \\u0644\\u0627\\u0639\\u0628 \\u0646\\u062c\\u062d \\u0645\\u0639\\u0646\\u0627 \\u0648\\u0644\\u0643\\u0646\\u0647 \\u0639\\u0627\\u062f \\u0628\\u0633\\u0628\\u0628 \\u0639\\u0627\\u0626\\u0644\\u062a\\u0647 \\u0623\\u0648 \\u0639\\u062f\\u0645 \\u0627\\u0644\\u062a\\u0623\\u0642\\u0644\\u0645 \\u0623\\u0648 \\u0633\\u0648\\u0621 \\u0633\\u0644\\u0648\\u0643\\u0647.\\n\\u0625\\u0646 \\u0645\\u0627 \\u064a\\u0628\\u0630\\u0644 \\u0645\\u0646 \\u062c\\u0647\\u062f \\u0648\\u0645\\u0627\\u0644 \\u0641\\u064a \\u062c\\u0644\\u0628 \\u0627\\u0644\\u0644\\u0627\\u0639\\u0628\\u064a\\u0646 \\u063a\\u064a\\u0631 \\u0627\\u0644\\u0633\\u0639\\u0648\\u062f\\u064a\\u064a\\u0646 \\u064a\\u062d\\u062a\\u0627\\u062c \\u0625\\u0644\\u0649 \\u0645\\u0632\\u064a\\u062f \\u0645\\u0646 \\u0627\\u0644\\u062f\\u0631\\u0627\\u0633\\u0629 \\u0648\\u0627\\u0644\\u062e\\u0628\\u0631\\u0629 \\u0648\\u0627\\u0644\\u062d\\u0646\\u0643\\u0629 \\u0645\\u0646\\u0639\\u0627 \\u0644\\u0644\\u0647\\u062f\\u0631 \\u0627\\u0644\\u0645\\u0627\\u0644\\u064a \\u0627\\u0644\\u0643\\u0628\\u064a\\u0631 \\u0648\\u0625\\u0646 \\u062a\\u0648\\u062c\\u064a\\u0647 \\u062c\\u0632\\u0621 \\u0645\\u0646 \\u0630\\u0644\\u0643 \\u0641\\u064a \\u0625\\u0639\\u062f\\u0627\\u062f \\u062c\\u064a\\u0644 \\u062c\\u062f\\u064a\\u062f \\u064a\\u0645\\u0643\\u0646 \\u0623\\u0646 \\u064a\\u0631\\u0633\\u0645 \\u0644\\u0646\\u0627 \\u0645\\u0633\\u062a\\u0642\\u0628\\u0644\\u0627 \\u0623\\u062c\\u0645\\u0644 \\u0648\\u064a\\u062d\\u0642\\u0642 \\u0644\\u0646\\u0627 \\u0646\\u062a\\u0627\\u0626\\u062c \\u0623\\u0641\\u0636\\u0644. \",\n          \" \\u0627\\u0631\\u062a\\u0641\\u0639\\u062a \\u0623\\u0633\\u0639\\u0627\\u0631 \\u0627\\u0644\\u0639\\u0642\\u0648\\u062f \\u0627\\u0644\\u0622\\u062c\\u0644\\u0629 \\u0644\\u0644\\u0646\\u0641\\u0637 \\u0627\\u0644\\u062e\\u0627\\u0645 \\u0639\\u0646\\u062f \\u0627\\u0644\\u0625\\u063a\\u0644\\u0627\\u0642 \\u0641\\u064a \\u062a\\u0639\\u0627\\u0645\\u0644\\u0627\\u062a \\u0645\\u062a\\u0642\\u0644\\u0628\\u0629 \\u0627\\u0644\\u064a\\u0648\\u0645.\\u0648\\u0642\\u0641\\u0632 \\u0633\\u0639\\u0631 \\u0628\\u0631\\u0646\\u062a \\u0641\\u064a \\u0639\\u0642\\u0648\\u062f \\u0633\\u0628\\u062a\\u0645\\u0628\\u0631 \\u0639\\u0646\\u062f \\u0627\\u0644\\u062a\\u0633\\u0648\\u064a\\u0629 39 \\u0633\\u0646\\u062a\\u064b\\u0627 \\u0623\\u0648 0.69 % \\u0625\\u0644\\u0649 57.04 \\u062f\\u0648\\u0644\\u0627\\u0631\\u064b\\u0627 \\u0644\\u0644\\u0628\\u0631\\u0645\\u064a\\u0644 \\u0628\\u0639\\u062f\\u0645\\u0627 \\u0627\\u0646\\u062e\\u0641\\u0636 45 \\u0633\\u0646\\u062a\\u064b\\u0627 \\u0639\\u0646\\u062f \\u0627\\u0644\\u062a\\u0633\\u0648\\u064a\\u0629 \\u064a\\u0648\\u0645 \\u0623\\u0645\\u0633. \\u0648\\u0635\\u0639\\u062f \\u0627\\u0644\\u062e\\u0627\\u0645 \\u0627\\u0644\\u0623\\u0645\\u0631\\u064a\\u0643\\u064a \\u0641\\u064a \\u0627\\u0644\\u0639\\u0642\\u0648\\u062f \\u0627\\u0644\\u0622\\u062c\\u0644\\u0629 \\u0644\\u062a\\u0633\\u0644\\u064a\\u0645 \\u0633\\u0628\\u062a\\u0645\\u0628\\u0631 21 \\u0633\\u0646\\u062a\\u064b\\u0627 \\u0623\\u0648 0.42 % \\u0625\\u0644\\u0649 50.36 \\u062f\\u0648\\u0644\\u0627\\u0631\\u064b\\u0627 \\u0644\\u0644\\u0628\\u0631\\u0645\\u064a\\u0644. \",\n          \" \\u0633\\u0628\\u0642- \\u0627\\u0644\\u0631\\u064a\\u0627\\u0636: \\u0642\\u0627\\u0644\\u062a \\u0633\\u064a\\u062f\\u0629 \\u0645\\u0637\\u0644\\u0651\\u0642\\u0629: \\u0625\\u0646 \\u0628\\u0646\\u0627\\u062a\\u0647\\u0627 \\u064a\\u062a\\u0639\\u0631\\u0636\\u0646 \\u0644\\u0623\\u0630\\u0649 \\u0648\\u0628\\u0637\\u0634 \\u064a\\u0648\\u0645\\u064a \\u0645\\u0646 \\u0642\\u0650\\u0628\\u064e\\u0644 \\u0648\\u0627\\u0644\\u062f\\u0647\\u0646\\u060c \\u0628\\u0639\\u062f \\u0637\\u0644\\u0627\\u0642\\u0647\\u0627 \\u0645\\u0646\\u0647\\u061b \\u062d\\u064a\\u062b \\u062a\\u064e\\u0642\\u064e\\u062f\\u0651\\u0645\\u062a \\u0628\\u0639\\u0650\\u062f\\u0651\\u0629 \\u0634\\u0643\\u0627\\u0648\\u0649 \\u0648\\u0644\\u0645 \\u062a\\u062a\\u0644\\u0642\\u0651\\u064e \\u0625\\u062c\\u0627\\u0628\\u0629 \\u062d\\u062a\\u0649 \\u0627\\u0644\\u0622\\u0646\\u061b \\u0645\\u0648\\u0636\\u062d\\u0629 \\u0623\\u0646 \\u0625\\u062d\\u062f\\u0649 \\u0628\\u0646\\u0627\\u062a\\u0647\\u0627 \\u062a\\u0639\\u0631\\u0636\\u062a \\u0644\\u0635\\u062f\\u0645\\u0629 \\u0646\\u0641\\u0633\\u064a\\u0629 \\u0648\\u0627\\u0643\\u062a\\u0626\\u0627\\u0628 \\u0646\\u062a\\u064a\\u062c\\u0629 \\\"\\u0627\\u0644\\u062a\\u0639\\u0630\\u064a\\u0628 \\u0627\\u0644\\u0646\\u0641\\u0633\\u064a \\u0648\\u0627\\u0644\\u062c\\u0633\\u062f\\u064a\\\"\\u061b \\u0639\\u0644\\u0649 \\u062d\\u062f \\u0648\\u0635\\u0641\\u0647\\u0627\\u061b \\u0645\\u0646\\u0627\\u0634\\u062f\\u0629 \\u0625\\u0639\\u0627\\u062f\\u0629 \\u0628\\u0646\\u0627\\u062a\\u0647\\u0627 \\u0644\\u0647\\u0627\\u060c \\u0628\\u0639\\u062f \\u0623\\u0646 \\u0647\\u062f\\u062f\\u0647\\u0627 \\u0637\\u0644\\u064a\\u0642\\u0647\\u0627 \\u0628\\u0625\\u062e\\u0641\\u0627\\u0621\\u0647\\u0646 \\u0641\\u064a \\u0623\\u0645\\u0627\\u0643\\u0646 \\u0644\\u0627 \\u062a\\u0633\\u062a\\u0637\\u064a\\u0639 \\u0627\\u0644\\u0648\\u0635\\u0648\\u0644 \\u0625\\u0644\\u064a\\u0647\\u0627. \\u00a0 \\u0648\\u0623\\u0648\\u0636\\u062d\\u062a \\u0627\\u0644\\u0645\\u0648\\u0627\\u0637\\u0646\\u0629 \\\"\\u0628.\\u0648\\\" \\u0644\\u0640\\\"\\u0633\\u0628\\u0642\\\": \\\"\\u0623\\u0646\\u0627\\u0634\\u062f \\u0627\\u0644\\u0646\\u0638\\u0631 \\u0641\\u064a \\u0648\\u0636\\u0639\\u064a\\u060c \\u0648\\u0625\\u0628\\u0642\\u0627\\u0621 \\u0628\\u0646\\u0627\\u062a\\u064a \\u0645\\u0639\\u064a\\u060c \\u0648\\u0639\\u062f\\u0645 \\u0639\\u0648\\u062f\\u062a\\u0647\\u0646 \\u0644\\u0648\\u0627\\u0644\\u062f\\u0647\\u0646 \\u0627\\u0644\\u0645\\u062a\\u0632\\u0648\\u062c \\u0645\\u0646 \\u0627\\u0645\\u0631\\u0623\\u0629 \\u0623\\u062e\\u0631\\u0649\\\"\\u061b \\u0645\\u0634\\u064a\\u0631\\u0629 \\u0625\\u0644\\u0649 \\u0623\\u0646\\u0647 \\u0628\\u0639\\u062f \\u0637\\u0644\\u0627\\u0642\\u0647\\u0627 \\u0623\\u062e\\u0630 \\u0637\\u0644\\u064a\\u0642\\u0647\\u0627 \\u0628\\u0646\\u0627\\u062a\\u0647\\u0627 \\u0645\\u0646\\u0647\\u0627 \\u0648\\u062a\\u0632\\u0648\\u062c \\u0645\\u0646 \\u0627\\u0645\\u0631\\u0623\\u0629 \\u0623\\u062e\\u0631\\u0649\\u060c \\u0648\\u0647\\u0646 \\u064a\\u062a\\u0639\\u0631\\u0636\\u0646 \\u0644\\u0644\\u0623\\u0630\\u0649 \\u0628\\u0634\\u0643\\u0644 \\u064a\\u0648\\u0645\\u064a. \\u00a0 \\u0648\\u0642\\u062f\\u0651\\u0645\\u062a \\u0627\\u0644\\u0623\\u0645\\u060c \\u0634\\u0643\\u0648\\u0649 \\u0644\\u062d\\u0642\\u0648\\u0642 \\u0627\\u0644\\u0625\\u0646\\u0633\\u0627\\u0646\\u060c \\u0643\\u0645\\u0627 \\u062a\\u0648\\u062c\\u0647\\u062a \\u0625\\u0644\\u0649 \\u062f\\u0627\\u0631 \\u0627\\u0644\\u062d\\u0645\\u0627\\u064a\\u0629\\u060c \\u0648\\u0643\\u062a\\u0628\\u062a \\u0625\\u062d\\u062f\\u0649 \\u0628\\u0646\\u0627\\u062a\\u0647\\u0627 \\u0631\\u0633\\u0627\\u0644\\u0629 \\u062a\\u0648\\u0636\\u0651\\u062d \\u0641\\u064a\\u0647\\u0627 \\u0645\\u062f\\u0649 \\u0627\\u0644\\u0645\\u0623\\u0633\\u0627\\u0629 \\u0627\\u0644\\u062a\\u064a \\u064a\\u062a\\u0639\\u0631\\u0636\\u0646 \\u0644\\u0647\\u0627 \\u0645\\u0646 \\u0642\\u0650\\u0628\\u064e\\u0644 \\u0648\\u0627\\u0644\\u062f\\u0647\\u0646\\u060c \\u0648\\u0644\\u0645 \\u062a\\u062a\\u0644\\u0642\\u0651\\u064e \\u0623\\u064a \\u0646\\u062a\\u064a\\u062c\\u0629\\u061b \\u062d\\u064a\\u062b \\u0623\\u0648\\u0636\\u062d\\u062a \\u0623\\u0646 \\u0631\\u0642\\u0645 \\u0627\\u0644\\u0628\\u0644\\u0627\\u063a \\u0647\\u0648 \\\"3421\\\". \\u00a0 \\u0648\\u062a\\u0627\\u0628\\u0639\\u062a: \\\"\\u062a\\u0639\\u0631\\u0636\\u062a \\u0625\\u062d\\u062f\\u0649 \\u0628\\u0646\\u0627\\u062a\\u064a \\u0644\\u0635\\u062f\\u0645\\u0629 \\u0646\\u0641\\u0633\\u064a\\u0629 \\u0648\\u062f\\u062e\\u0644\\u062a \\u0645\\u0631\\u062d\\u0644\\u0629 \\u0627\\u0643\\u062a\\u0626\\u0627\\u0628 \\u0646\\u062a\\u064a\\u062c\\u0629 \\u0644\\u0644\\u062a\\u0639\\u0630\\u064a\\u0628 \\u0627\\u0644\\u0646\\u0641\\u0633\\u064a \\u0648\\u0627\\u0644\\u062c\\u0633\\u062f\\u064a \\u0627\\u0644\\u0630\\u064a \\u062a\\u062a\\u0644\\u0642\\u0627\\u0647 \\u0645\\u0646 \\u0648\\u0627\\u0644\\u062f\\u0647\\u0627\\u060c \\u0648\\u0647\\u0646 \\u064a\\u0631\\u0641\\u0636\\u0646 \\u0627\\u0644\\u0628\\u0642\\u0627\\u0621 \\u0645\\u0639 \\u0648\\u0627\\u0644\\u062f\\u0647\\u0646\\\"\\u060c \\u0648\\u0623\\u0636\\u0627\\u0641\\u062a: \\\"\\u0623\\u0635\\u0628\\u062d \\u0627\\u0644\\u0622\\u0646 \\u064a\\u0647\\u062f\\u062f\\u0646\\u064a \\u0628\\u0623\\u062e\\u0630 \\u0628\\u0646\\u0627\\u062a\\u064a \\u0625\\u0644\\u0649 \\u0623\\u0645\\u0627\\u0643\\u0646 \\u0644\\u0627 \\u0623\\u0633\\u062a\\u0637\\u064a\\u0639 \\u0623\\u0646 \\u0623\\u0635\\u0644 \\u0644\\u0647\\u0646 \\u0641\\u064a\\u0647\\u0627 \\u0648\\u064a\\u062d\\u0631\\u0645\\u0647\\u0646 \\u0645\\u0646\\u064a\\\"\\u061b \\u0645\\u0646\\u0627\\u0634\\u062f\\u0629 \\u0625\\u0639\\u0627\\u062f\\u0629 \\u0628\\u0646\\u0627\\u062a\\u0647\\u0627 \\u0648\\u062a\\u062e\\u0644\\u064a\\u0635\\u0647\\u0646 \\u0645\\u0646 \\u0628\\u0637\\u0634 \\u0648\\u0627\\u0644\\u062f\\u0647\\u0646 \\u0648\\u0627\\u0644\\u0645\\u0623\\u0633\\u0627\\u0629 \\u0627\\u0644\\u062a\\u064a \\u064a\\u0639\\u0627\\u0646\\u064a\\u0646 \\u0645\\u0646\\u0647\\u0627\\u061b \\u0639\\u0644\\u0649 \\u062d\\u062f \\u0648\\u0635\\u0641\\u0647\\u0627. \"\n        ],\n        \"semantic_type\": \"\",\n        \"description\": \"\"\n      }\n    },\n    {\n      \"column\": \"content_length\",\n      \"properties\": {\n        \"dtype\": \"number\",\n        \"std\": 1655,\n        \"min\": 1,\n        \"max\": 33687,\n        \"num_unique_values\": 5588,\n        \"samples\": [\n          197,\n          3630,\n          3723\n        ],\n        \"semantic_type\": \"\",\n        \"description\": \"\"\n      }\n    },\n    {\n      \"column\": \"title_length\",\n      \"properties\": {\n        \"dtype\": \"number\",\n        \"std\": 17,\n        \"min\": 0,\n        \"max\": 181,\n        \"num_unique_values\": 127,\n        \"samples\": [\n          66,\n          106,\n          89\n        ],\n        \"semantic_type\": \"\",\n        \"description\": \"\"\n      }\n    },\n    {\n      \"column\": \"year\",\n      \"properties\": {\n        \"dtype\": \"int32\",\n        \"num_unique_values\": 1,\n        \"samples\": [\n          2015\n        ],\n        \"semantic_type\": \"\",\n        \"description\": \"\"\n      }\n    },\n    {\n      \"column\": \"month\",\n      \"properties\": {\n        \"dtype\": \"int32\",\n        \"num_unique_values\": 2,\n        \"samples\": [\n          8\n        ],\n        \"semantic_type\": \"\",\n        \"description\": \"\"\n      }\n    },\n    {\n      \"column\": \"category\",\n      \"properties\": {\n        \"dtype\": \"category\",\n        \"num_unique_values\": 18,\n        \"samples\": [\n          \"\\u0633\\u064a\\u0627\\u0631\\u0627\\u062a\"\n        ],\n        \"semantic_type\": \"\",\n        \"description\": \"\"\n      }\n    }\n  ]\n}"
            }
          },
          "metadata": {},
          "execution_count": 31
        }
      ]
    },
    {
      "cell_type": "code",
      "source": [
        "# Display the counts of each category in the dataset\n",
        "category_counts = df['category'].value_counts()\n",
        "\n",
        "# Print each category with the count of articles in it\n",
        "print(\"Categories and their article counts:\\n\")\n",
        "for category, count in category_counts.items():\n",
        "    print(f\"Category: {category}, Count: {count}\")\n"
      ],
      "metadata": {
        "colab": {
          "base_uri": "https://localhost:8080/"
        },
        "id": "LanyfBjGBzNA",
        "outputId": "1437c876-5f8d-4db2-b3be-fe80baae78d7"
      },
      "execution_count": null,
      "outputs": [
        {
          "output_type": "stream",
          "name": "stdout",
          "text": [
            "Categories and their article counts:\n",
            "\n",
            "Category: ترفيه, Count: 8267\n",
            "Category: سيارات, Count: 6461\n",
            "Category: غير مصنف, Count: 2604\n",
            "Category: أطفال, Count: 2466\n",
            "Category: تمويل, Count: 2336\n",
            "Category: صحة, Count: 1852\n",
            "Category: الشرق الأوسط, Count: 1725\n",
            "Category: أخبار, Count: 1378\n",
            "Category: طقس, Count: 1046\n",
            "Category: رياضة, Count: 806\n",
            "Category: سفر, Count: 740\n",
            "Category: موسيقى, Count: 459\n",
            "Category: طعام وشراب, Count: 251\n",
            "Category: تلفزيون, Count: 223\n",
            "Category: أمريكا الشمالية, Count: 216\n",
            "Category: فيديو, Count: 89\n",
            "Category: أسلوب الحياة, Count: 80\n",
            "Category: أفلام, Count: 31\n"
          ]
        }
      ]
    },
    {
      "cell_type": "code",
      "source": [
        "# Plotting the distribution of articles across categories as a pie chart\n",
        "plt.figure(figsize=(8, 8))\n",
        "plt.pie(category_counts, labels=category_counts.index, autopct='%1.1f%%', startangle=140, colors=plt.cm.Paired.colors)\n",
        "plt.title('Article Distribution by Category', fontsize=14)\n",
        "plt.axis('equal')  # Equal aspect ratio ensures that pie chart is drawn as a circle.\n",
        "plt.show()"
      ],
      "metadata": {
        "colab": {
          "base_uri": "https://localhost:8080/",
          "height": 684
        },
        "id": "fA1WwzNfDYxR",
        "outputId": "f0764220-4b3e-4ae3-a675-b480a661e0aa"
      },
      "execution_count": null,
      "outputs": [
        {
          "output_type": "display_data",
          "data": {
            "text/plain": [
              "<Figure size 800x800 with 1 Axes>"
            ],
            "image/png": "[encoded data removed]"
          },
          "metadata": {}
        }
      ]
    },
    {
      "cell_type": "markdown",
      "source": [
        "### Install Required Libraries"
      ],
      "metadata": {
        "id": "BORw2CDh8rEf"
      }
    },
    {
      "cell_type": "code",
      "source": [
        "pip install transformers torch arabert"
      ],
      "metadata": {
        "colab": {
          "base_uri": "https://localhost:8080/"
        },
        "id": "fMq9VDhm8sCP",
        "outputId": "22e87bc4-bf12-473d-d9e5-c92bc9497855"
      },
      "execution_count": null,
      "outputs": [
        {
          "output_type": "stream",
          "name": "stdout",
          "text": [
            "Requirement already satisfied: transformers in /usr/local/lib/python3.10/dist-packages (4.44.2)\n",
            "Requirement already satisfied: torch in /usr/local/lib/python3.10/dist-packages (2.4.1+cu121)\n",
            "Collecting arabert\n",
            "  Downloading arabert-1.0.1-py3-none-any.whl.metadata (16 kB)\n",
            "Requirement already satisfied: filelock in /usr/local/lib/python3.10/dist-packages (from transformers) (3.16.1)\n",
            "Requirement already satisfied: huggingface-hub<1.0,>=0.23.2 in /usr/local/lib/python3.10/dist-packages (from transformers) (0.24.7)\n",
            "Requirement already satisfied: numpy>=1.17 in /usr/local/lib/python3.10/dist-packages (from transformers) (1.26.4)\n",
            "Requirement already satisfied: packaging>=20.0 in /usr/local/lib/python3.10/dist-packages (from transformers) (24.1)\n",
            "Requirement already satisfied: pyyaml>=5.1 in /usr/local/lib/python3.10/dist-packages (from transformers) (6.0.2)\n",
            "Requirement already satisfied: regex!=2019.12.17 in /usr/local/lib/python3.10/dist-packages (from transformers) (2024.9.11)\n",
            "Requirement already satisfied: requests in /usr/local/lib/python3.10/dist-packages (from transformers) (2.32.3)\n",
            "Requirement already satisfied: safetensors>=0.4.1 in /usr/local/lib/python3.10/dist-packages (from transformers) (0.4.5)\n",
            "Requirement already satisfied: tokenizers<0.20,>=0.19 in /usr/local/lib/python3.10/dist-packages (from transformers) (0.19.1)\n",
            "Requirement already satisfied: tqdm>=4.27 in /usr/local/lib/python3.10/dist-packages (from transformers) (4.66.5)\n",
            "Requirement already satisfied: typing-extensions>=4.8.0 in /usr/local/lib/python3.10/dist-packages (from torch) (4.12.2)\n",
            "Requirement already satisfied: sympy in /usr/local/lib/python3.10/dist-packages (from torch) (1.13.2)\n",
            "Requirement already satisfied: networkx in /usr/local/lib/python3.10/dist-packages (from torch) (3.3)\n",
            "Requirement already satisfied: jinja2 in /usr/local/lib/python3.10/dist-packages (from torch) (3.1.4)\n",
            "Requirement already satisfied: fsspec in /usr/local/lib/python3.10/dist-packages (from torch) (2024.6.1)\n",
            "Collecting PyArabic (from arabert)\n",
            "  Downloading PyArabic-0.6.15-py3-none-any.whl.metadata (10 kB)\n",
            "Collecting farasapy (from arabert)\n",
            "  Downloading farasapy-0.0.14-py3-none-any.whl.metadata (8.9 kB)\n",
            "Collecting emoji==1.4.2 (from arabert)\n",
            "  Downloading emoji-1.4.2.tar.gz (184 kB)\n",
            "\u001b[2K     \u001b[90m━━━━━━━━━━━━━━━━━━━━━━━━━━━━━━━━━━━━━━━━\u001b[0m \u001b[32m185.0/185.0 kB\u001b[0m \u001b[31m5.3 MB/s\u001b[0m eta \u001b[36m0:00:00\u001b[0m\n",
            "\u001b[?25h  Preparing metadata (setup.py) ... \u001b[?25l\u001b[?25hdone\n",
            "Requirement already satisfied: MarkupSafe>=2.0 in /usr/local/lib/python3.10/dist-packages (from jinja2->torch) (2.1.5)\n",
            "Requirement already satisfied: six>=1.14.0 in /usr/local/lib/python3.10/dist-packages (from PyArabic->arabert) (1.16.0)\n",
            "Requirement already satisfied: charset-normalizer<4,>=2 in /usr/local/lib/python3.10/dist-packages (from requests->transformers) (3.3.2)\n",
            "Requirement already satisfied: idna<4,>=2.5 in /usr/local/lib/python3.10/dist-packages (from requests->transformers) (3.10)\n",
            "Requirement already satisfied: urllib3<3,>=1.21.1 in /usr/local/lib/python3.10/dist-packages (from requests->transformers) (2.0.7)\n",
            "Requirement already satisfied: certifi>=2017.4.17 in /usr/local/lib/python3.10/dist-packages (from requests->transformers) (2024.8.30)\n",
            "Requirement already satisfied: mpmath<1.4,>=1.1.0 in /usr/local/lib/python3.10/dist-packages (from sympy->torch) (1.3.0)\n",
            "Downloading arabert-1.0.1-py3-none-any.whl (179 kB)\n",
            "\u001b[2K   \u001b[90m━━━━━━━━━━━━━━━━━━━━━━━━━━━━━━━━━━━━━━━━\u001b[0m \u001b[32m179.3/179.3 kB\u001b[0m \u001b[31m13.1 MB/s\u001b[0m eta \u001b[36m0:00:00\u001b[0m\n",
            "\u001b[?25hDownloading farasapy-0.0.14-py3-none-any.whl (11 kB)\n",
            "Downloading PyArabic-0.6.15-py3-none-any.whl (126 kB)\n",
            "\u001b[2K   \u001b[90m━━━━━━━━━━━━━━━━━━━━━━━━━━━━━━━━━━━━━━━━\u001b[0m \u001b[32m126.4/126.4 kB\u001b[0m \u001b[31m7.9 MB/s\u001b[0m eta \u001b[36m0:00:00\u001b[0m\n",
            "\u001b[?25hBuilding wheels for collected packages: emoji\n",
            "  Building wheel for emoji (setup.py) ... \u001b[?25l\u001b[?25hdone\n",
            "  Created wheel for emoji: filename=emoji-1.4.2-py3-none-any.whl size=186456 sha256=e7f766ac025305ad13e565bce39602250d94a52194dafe3b6080c037436ca60c\n",
            "  Stored in directory: /root/.cache/pip/wheels/10/f0/fd/4813b1177405693e8da9cdea839f0fb64fde161380e058c827\n",
            "Successfully built emoji\n",
            "Installing collected packages: emoji, PyArabic, farasapy, arabert\n",
            "Successfully installed PyArabic-0.6.15 arabert-1.0.1 emoji-1.4.2 farasapy-0.0.14\n"
          ]
        }
      ]
    }
  ]
}