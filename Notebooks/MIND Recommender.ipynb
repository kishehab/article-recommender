{
 "cells": [
  {
   "cell_type": "markdown",
   "metadata": {},
   "source": [
    "# MIND Recommender "
   ]
  },
  {
   "cell_type": "code",
   "execution_count": 25,
   "metadata": {},
   "outputs": [],
   "source": [
    "# Importing required libraries\n",
    "import pandas as pd\n",
    "\n",
    "# Load the provided datasets\n",
    "news_path = \"../datasets/MINDsmall_dev/news.tsv\"\n",
    "behaviors_path = \"../datasets/MINDsmall_dev/behaviors.tsv\"\n",
    "\n",
    "# Define column names for each dataset\n",
    "news_columns = [\"itemId\",\"category\",\"subcategory\",\"title\",\"abstract\",\"url\",\"title_entities\",\"abstract_entities\"]\n",
    "behaviors_columns = [\"impressionId\",\"userId\",\"timestamp\",\"click_history\",\"impressions\"]\n",
    "\n",
    "# Load datasets\n",
    "news_df = pd.read_csv(news_path, sep='\\t', names=news_columns)\n",
    "behaviors_df = pd.read_csv(behaviors_path, sep='\\t', names=behaviors_columns)\n",
    "\n",
    "# Display the first few rows of each dataset\n",
    "news_sample = news_df.head()\n",
    "behaviors_sample = behaviors_df.head()"
   ]
  },
  {
   "cell_type": "code",
   "execution_count": null,
   "metadata": {},
   "outputs": [],
   "source": [
    "news_sample"
   ]
  },
  {
   "cell_type": "code",
   "execution_count": null,
   "metadata": {},
   "outputs": [],
   "source": [
    "behaviors_sample"
   ]
  },
  {
   "cell_type": "code",
   "execution_count": 32,
   "metadata": {},
   "outputs": [],
   "source": [
    "# Importing required libraries\n",
    "from sklearn.feature_extraction.text import TfidfVectorizer\n",
    "from sklearn.metrics.pairwise import cosine_similarity\n",
    "\n",
    "# Fill NaN values with empty string for title and abstract\n",
    "news_df['title'] = news_df['title'].fillna('')\n",
    "news_df['abstract'] = news_df['abstract'].fillna('')\n",
    "\n",
    "# Create a combined column of title and abstract for TF-IDF vectorization\n",
    "news_df['content'] = news_df['title'] + \" \" + news_df['abstract']\n",
    "\n",
    "# Create TF-IDF vectors for the news content\n",
    "vectorizer = TfidfVectorizer(stop_words='english', max_features=5000)\n",
    "news_tfidf = vectorizer.fit_transform(news_df['content'])\n",
    "\n",
    "# Calculate cosine similarity matrix for the news content\n",
    "cosine_sim = cosine_similarity(news_tfidf, news_tfidf)\n",
    "\n",
    "# Function to get similar news articles based on article ID\n",
    "def get_similar_articles(article_id, num_recommendations=5):\n",
    "    # Find index of the given article id\n",
    "    idx = news_df[news_df['itemId'] == article_id].index[0]\n",
    "    \n",
    "    # Get similarity scores for the given article\n",
    "    sim_scores = list(enumerate(cosine_sim[idx]))\n",
    "    \n",
    "    # Sort the articles by similarity scores\n",
    "    sim_scores = sorted(sim_scores, key=lambda x: x[1], reverse=True)\n",
    "    \n",
    "    # Get indices and scores of the top similar articles\n",
    "    similar_articles = [(i[0], i[1]) for i in sim_scores[1:num_recommendations+1]]\n",
    "    \n",
    "    # Create DataFrame with similar articles and their similarity scores\n",
    "    result = pd.DataFrame({\n",
    "        'itemId': [news_df.iloc[i[0]]['itemId'] for i in similar_articles],\n",
    "        'title': [news_df.iloc[i[0]]['title'] for i in similar_articles],\n",
    "        'abstract': [news_df.iloc[i[0]]['abstract'] for i in similar_articles],\n",
    "        'category': [news_df.iloc[i[0]]['category'] for i in similar_articles],\n",
    "        'subcategory': [news_df.iloc[i[0]]['subcategory'] for i in similar_articles],\n",
    "        'similarity_score': [i[1] for i in similar_articles]\n",
    "    })\n",
    "    \n",
    "    return result\n",
    "\n",
    "# Function to get recommended articles for a user based on click history\n",
    "def get_recommended_articles_for_user(user_id, num_recommendations=5):\n",
    "    # Get click history for the user\n",
    "    click_history = behaviors_df[behaviors_df['userId'] == user_id]['click_history'].values[0].split(' ')\n",
    "    \n",
    "    # Get indices of articles in the click history\n",
    "    click_indices = [news_df[news_df['itemId'] == article_id].index[0] for article_id in click_history if article_id in news_df['itemId'].values]\n",
    "    \n",
    "    # Calculate average similarity scores for all articles\n",
    "    avg_sim_scores = cosine_sim[click_indices].mean(axis=0)\n",
    "    \n",
    "    # Get indices and scores of the top recommended articles\n",
    "    recommended_articles = [(i, avg_sim_scores[i]) for i in avg_sim_scores.argsort()[::-1][:num_recommendations]]\n",
    "    \n",
    "    # Create DataFrame with recommended articles and their similarity scores\n",
    "    result = pd.DataFrame({\n",
    "        'itemId': [news_df.iloc[i[0]]['itemId'] for i in recommended_articles],\n",
    "        'title': [news_df.iloc[i[0]]['title'] for i in recommended_articles],\n",
    "        'abstract': [news_df.iloc[i[0]]['abstract'] for i in recommended_articles],\n",
    "        'category': [news_df.iloc[i[0]]['category'] for i in recommended_articles],\n",
    "        'subcategory': [news_df.iloc[i[0]]['subcategory'] for i in recommended_articles],\n",
    "        'similarity_score': [i[1] for i in recommended_articles]\n",
    "    })\n",
    "    \n",
    "    return result"
   ]
  },
  {
   "cell_type": "code",
   "execution_count": null,
   "metadata": {},
   "outputs": [],
   "source": [
    "# Get similar articles for a given article ID\n",
    "similar_articles_df = get_similar_articles('N55528')\n",
    "print(\"Similar Articles for Article ID 'N55528':\")\n",
    "similar_articles_df"
   ]
  },
  {
   "cell_type": "code",
   "execution_count": null,
   "metadata": {},
   "outputs": [],
   "source": [
    "# Get recommended articles for a given user ID\n",
    "recommended_articles_df = get_recommended_articles_for_user('U80234')\n",
    "print(\"\\nRecommended Articles for User ID 'U80234':\")\n",
    "recommended_articles_df"
   ]
  }
 ],
 "metadata": {
  "kernelspec": {
   "display_name": "base",
   "language": "python",
   "name": "python3"
  },
  "language_info": {
   "codemirror_mode": {
    "name": "ipython",
    "version": 3
   },
   "file_extension": ".py",
   "mimetype": "text/x-python",
   "name": "python",
   "nbconvert_exporter": "python",
   "pygments_lexer": "ipython3",
   "version": "3.11.8"
  }
 },
 "nbformat": 4,
 "nbformat_minor": 2
}
